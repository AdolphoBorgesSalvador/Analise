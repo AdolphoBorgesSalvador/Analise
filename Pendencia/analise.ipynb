{
 "cells": [
  {
   "cell_type": "code",
   "execution_count": null,
   "metadata": {},
   "outputs": [],
   "source": [
    "import pandas as pd\n"
   ]
  },
  {
   "cell_type": "code",
   "execution_count": null,
   "metadata": {},
   "outputs": [],
   "source": [
    "# Carregar o arquivo Excel\n",
    "sheet_data = pd.read_excel(r\"C:\\Users\\fsp_adolpho.salvador\\Desktop\\Konica Minolta\\Desktop Cloud - Documentos\\Desktop\\Py\\Pendencias\\Mapa2.xlsx\", sheet_name='Sheet1')\n",
    "\n",
    "# Agora o sheet_data contém as novas colunas 'Pendências Total', 'Estoque Total' e 'Saídas Total'\n",
    "sheet_data.columns"
   ]
  },
  {
   "cell_type": "code",
   "execution_count": null,
   "metadata": {},
   "outputs": [],
   "source": [
    "# Calculando o total das colunas solicitadas\n",
    "totais = {\n",
    "    'Pendências Total': sheet_data['Pendências Total'].sum(),\n",
    "    'Estoque Total': sheet_data['Estoque Total'].sum(),\n",
    "    'Chegadas Total': sheet_data['Chegadas Total'].sum()\n",
    "}\n",
    "\n",
    "totais"
   ]
  },
  {
   "cell_type": "code",
   "execution_count": null,
   "metadata": {},
   "outputs": [],
   "source": [
    "# Adicionar uma coluna que identifica se é necessário comprar materiais\n",
    "sheet_data['Compra Necessária'] = sheet_data['Pendências Total'] > (sheet_data['Estoque Total'] + sheet_data['Chegadas Total'])\n",
    "\n",
    "# Adicionar uma coluna com a quantidade que precisa ser comprada\n",
    "sheet_data['Quantidade a Comprar'] = sheet_data['Pendências Total'] - (sheet_data['Estoque Total'] + sheet_data['Chegadas Total'])\n",
    "\n",
    "# Somente mostrar os materiais que precisam ser comprados (onde a quantidade é maior que 0)\n",
    "materiais_para_comprar = sheet_data[sheet_data['Compra Necessária'] & (sheet_data['Quantidade a Comprar'] > 0)]\n",
    "\n",
    "# Exibir os materiais que precisam ser comprados e a quantidade\n",
    "print(materiais_para_comprar[['Material', 'Pendências Total', 'Estoque Total', 'Chegadas Total', 'Quantidade a Comprar']])\n",
    "\n"
   ]
  },
  {
   "cell_type": "code",
   "execution_count": null,
   "metadata": {},
   "outputs": [],
   "source": [
    "# Somar as quantidades a comprar para obter o total necessário\n",
    "quantidade_total_comprar = materiais_para_comprar['Quantidade a Comprar'].sum()\n",
    "\n",
    "quantidade_total_comprar\n"
   ]
  },
  {
   "cell_type": "code",
   "execution_count": null,
   "metadata": {},
   "outputs": [],
   "source": [
    "materiais_para_comprar"
   ]
  },
  {
   "cell_type": "code",
   "execution_count": null,
   "metadata": {},
   "outputs": [],
   "source": [
    "ztsd017 = pd.read_excel(r'C:\\Users\\fsp_adolpho.salvador\\Desktop\\Konica Minolta\\Desktop Cloud - Documentos\\Desktop\\Py\\Pendencias\\ztsd017.XLSX')\n"
   ]
  },
  {
   "cell_type": "code",
   "execution_count": null,
   "metadata": {},
   "outputs": [],
   "source": [
    "# Limpar espaços nos nomes das colunas para evitar problemas de acesso\n",
    "ztsd017.columns = ztsd017.columns.str.strip()\n",
    "\n",
    "# Verificar os materiais e seus similares para encontrar o estoque no arquivo ztsd017.XLSX\n",
    "def buscar_estoque(row, df_estoque):\n",
    "    # Lista de materiais e similares para verificar\n",
    "    materiais = [row['Atual'], row['Similar1'], row['Similar2'], row['Similar3'], row['Similar4']]\n",
    "    \n",
    "    # Iterar sobre os materiais e similares para verificar se há estoque\n",
    "    for material in materiais:\n",
    "        if material in df_estoque['Material'].values:\n",
    "            # Retornar o valor do estoque na coluna 'BKO 09/2024'\n",
    "            estoque = df_estoque.loc[df_estoque['Material'] == material, 'Quant estoque 09/2024'].values[0]\n",
    "            return estoque\n",
    "    \n",
    "    # Retornar 0 se nenhum material similar tiver estoque\n",
    "    return 0\n",
    "\n",
    "# Adicionar a nova coluna 'Estoque Similares 09/2024' com base nos materiais e similares\n",
    "sheet_data['Estoque Similares 09/2024'] = sheet_data.apply(buscar_estoque, axis=1, df_estoque=ztsd017)\n",
    "\n",
    "# Atualizar a coluna 'Estoque Total' para incluir o estoque dos similares\n",
    "sheet_data['Estoque Total Atualizado'] = sheet_data['Estoque Total'] + sheet_data['Estoque Similares 09/2024']\n",
    "\n",
    "# Recalcular a coluna 'Compra Necessária' com o estoque atualizado\n",
    "sheet_data['Compra Necessária'] = sheet_data['Pendências Total'] > (sheet_data['Estoque Total Atualizado'] + sheet_data['Chegadas Total'])\n",
    "\n",
    "# Recalcular a coluna 'Quantidade a Comprar'\n",
    "sheet_data['Quantidade a Comprar'] = sheet_data['Pendências Total'] - (sheet_data['Estoque Total Atualizado'] + sheet_data['Chegadas Total'])\n",
    "\n",
    "# Filtrar os materiais que ainda precisam ser comprados (onde a quantidade a comprar é maior que 0)\n",
    "materiais_para_comprar = sheet_data[sheet_data['Compra Necessária'] & (sheet_data['Quantidade a Comprar'] > 0)]\n",
    "\n",
    "# Exibir os materiais que precisam ser comprados e a quantidade\n",
    "print(materiais_para_comprar[['Material', 'Pendências Total', 'Estoque Total Atualizado', 'Chegadas Total', 'Quantidade a Comprar']])\n",
    "\n",
    "# Salvar o resultado em um arquivo Excel (opcional)\n",
    "\n"
   ]
  },
  {
   "cell_type": "code",
   "execution_count": null,
   "metadata": {},
   "outputs": [],
   "source": [
    "materiais_para_comprar"
   ]
  },
  {
   "cell_type": "code",
   "execution_count": null,
   "metadata": {},
   "outputs": [],
   "source": []
  },
  {
   "cell_type": "code",
   "execution_count": null,
   "metadata": {},
   "outputs": [],
   "source": []
  },
  {
   "cell_type": "code",
   "execution_count": null,
   "metadata": {},
   "outputs": [],
   "source": []
  },
  {
   "cell_type": "code",
   "execution_count": null,
   "metadata": {},
   "outputs": [],
   "source": []
  }
 ],
 "metadata": {
  "kernelspec": {
   "display_name": "Python 3",
   "language": "python",
   "name": "python3"
  },
  "language_info": {
   "codemirror_mode": {
    "name": "ipython",
    "version": 3
   },
   "file_extension": ".py",
   "mimetype": "text/x-python",
   "name": "python",
   "nbconvert_exporter": "python",
   "pygments_lexer": "ipython3",
   "version": "3.12.3"
  }
 },
 "nbformat": 4,
 "nbformat_minor": 2
}
