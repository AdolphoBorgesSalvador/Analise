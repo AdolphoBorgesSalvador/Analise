{
 "cells": [
  {
   "cell_type": "code",
   "execution_count": null,
   "metadata": {},
   "outputs": [],
   "source": [
    "import pandas as pd\n"
   ]
  },
  {
   "cell_type": "code",
   "execution_count": null,
   "metadata": {},
   "outputs": [],
   "source": [
    "# Carregar o arquivo Excel\n",
    "sheet_data = pd.read_excel(r\"C:\\Users\\fsp_adolpho.salvador\\Desktop\\Konica Minolta\\Desktop Cloud - Documentos\\Desktop\\Py\\Pendencias\\Arquivos\\Mapa2.xlsx\", sheet_name='Sheet1')\n",
    "\n",
    "# Agora o sheet_data contém as novas colunas 'Pendências Total', 'Estoque Total' e 'Saídas Total'\n",
    "sheet_data.columns"
   ]
  },
  {
   "cell_type": "code",
   "execution_count": null,
   "metadata": {},
   "outputs": [],
   "source": [
    "sheet_data['pendencia_total'] = sheet_data[['CE04_zva70', 'CE05_zva70', 'CE11_zva70', 'CE13_zva70']].sum(axis=1)\n",
    "sheet_data['estoque_total'] = sheet_data[['CE01_zstok', 'CE03_zstok', 'CE05_zstok', 'CE07_zstok', 'CE09_zstok', 'CE11_zstok', 'CE13_zstok']].sum(axis=1)\n",
    "sheet_data['FUP_total'] = sheet_data[['Nov/24_FUP', 'Dez/24_FUP', 'Jan/24_FUP', 'Fev/24_Fup']].sum(axis=1)\n",
    "sheet_data['estoque_no_similar'] = sheet_data['Quant estoque 09/2024'] - sheet_data['estoque_total']"
   ]
  },
  {
   "cell_type": "code",
   "execution_count": null,
   "metadata": {},
   "outputs": [],
   "source": [
    "sheet_data"
   ]
  },
  {
   "cell_type": "code",
   "execution_count": null,
   "metadata": {},
   "outputs": [],
   "source": [
    "sheet_data['projecao_compra'] = sheet_data['pendencia_total'] - (sheet_data['estoque_total'] + sheet_data['FUP_total'] + sheet_data['estoque_no_similar'])\n",
    "sheet_data['projecao_compra'] = sheet_data['projecao_compra'].apply(lambda x: max(x, 0))\n",
    "\n"
   ]
  },
  {
   "cell_type": "code",
   "execution_count": null,
   "metadata": {},
   "outputs": [],
   "source": [
    "sheet_data"
   ]
  },
  {
   "cell_type": "code",
   "execution_count": null,
   "metadata": {},
   "outputs": [],
   "source": [
    "\n",
    "caminho_saida = r'C:\\Users\\fsp_adolpho.salvador\\Desktop\\Konica Minolta\\Desktop Cloud - Documentos\\Desktop\\Py\\Analise\\Pendencia\\Mapa Analisado1.0.xlsx'\n",
    "\n",
    "# Exportar o DataFrame para o arquivo Excel\n",
    "sheet_data.to_excel(caminho_saida, index=True)"
   ]
  },
  {
   "cell_type": "code",
   "execution_count": null,
   "metadata": {},
   "outputs": [],
   "source": [
    "def atender_estoque_ajustado_v2(row):\n",
    "    if row['projecao_compra'] == 0:\n",
    "        # Verificando a ordem de prioridade dos estoques e se o valor é suficiente para cobrir a pendência\n",
    "        for col in ['CE05_zstok', 'CE13_zstok', 'CE11_zstok', 'CE09_zstok', 'CE07_zstok', 'CE01_zstok', 'estoque_total', 'estoque_no_similar']:\n",
    "            if row[col] >= row['pendencia_total']:\n",
    "                if col == 'estoque_no_similar':\n",
    "                    return \"Atender Pelo Similar\"\n",
    "                else:\n",
    "                    return f\"Atender pelo {col.split('_')[0]}\"\n",
    "        # Se todos os estoques forem insuficientes, verifica o FUP total\n",
    "        if row['FUP_total'] >= row['pendencia_total']:\n",
    "            return \"Aguardar IMP\"\n",
    "        else:\n",
    "            return \"Sem estoque disponível\"\n",
    "    else:\n",
    "        return row['projecao_compra']  # Retorna o valor da projeção de compra se houver necessidade\n",
    "\n",
    "# Aplicando a função ajustada ao DataFrame\n",
    "sheet_data['priorizacao_estoque'] = sheet_data.apply(atender_estoque_ajustado_v2, axis=1)\n",
    "\n"
   ]
  },
  {
   "cell_type": "code",
   "execution_count": null,
   "metadata": {},
   "outputs": [],
   "source": [
    "sheet_data"
   ]
  },
  {
   "cell_type": "code",
   "execution_count": null,
   "metadata": {},
   "outputs": [],
   "source": [
    "\n",
    "caminho_saida = r'C:\\Users\\fsp_adolpho.salvador\\Desktop\\Konica Minolta\\Desktop Cloud - Documentos\\Desktop\\Py\\Analise\\Pendencia\\Arquivos\\Mapa Analisado2.0.xlsx'\n",
    "\n",
    "# Exportar o DataFrame para o arquivo Excel\n",
    "sheet_data.to_excel(caminho_saida, index=True)"
   ]
  },
  {
   "cell_type": "code",
   "execution_count": null,
   "metadata": {},
   "outputs": [],
   "source": []
  }
 ],
 "metadata": {
  "kernelspec": {
   "display_name": "Python 3",
   "language": "python",
   "name": "python3"
  },
  "language_info": {
   "codemirror_mode": {
    "name": "ipython",
    "version": 3
   },
   "file_extension": ".py",
   "mimetype": "text/x-python",
   "name": "python",
   "nbconvert_exporter": "python",
   "pygments_lexer": "ipython3",
   "version": "3.12.3"
  }
 },
 "nbformat": 4,
 "nbformat_minor": 2
}
