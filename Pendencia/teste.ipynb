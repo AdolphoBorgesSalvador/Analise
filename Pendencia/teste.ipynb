{
 "cells": [
  {
   "cell_type": "code",
   "execution_count": null,
   "metadata": {},
   "outputs": [],
   "source": [
    "import pandas as pd\n",
    "\n",
    "mapa_data = pd.read_excel(r'C:\\Users\\fsp_adolpho.salvador\\Desktop\\Konica Minolta\\Desktop Cloud - Documentos\\Desktop\\Py\\Pendencias\\Mapa.xlsx')\n",
    "ztsd017_data = pd.read_excel(r'C:\\Users\\fsp_adolpho.salvador\\Desktop\\Konica Minolta\\Desktop Cloud - Documentos\\Desktop\\Py\\Pendencias\\ztsd017.XLSX')\n",
    "\n",
    "mapa_data.columns = mapa_data.columns.str.strip()\n",
    "ztsd017_data.columns = ztsd017_data.columns.str.strip()\n",
    "\n",
    "# Função para encontrar o material no Mapa em uma das colunas e retornar o valor de estoque\n",
    "def buscar_estoque(material, df_estoque):\n",
    "    # Verificar se o material existe no ztsd017 e pegar o valor de 'Quant estoque 09/2024'\n",
    "    if material in df_estoque['Material'].values:\n",
    "        return df_estoque.loc[df_estoque['Material'] == material, 'Quant estoque 24/10/2024'].values[0]\n",
    "    return 0  # Se não encontrar o material, retornar 0\n",
    "\n",
    "# Função para verificar o material ou seus similares e buscar o estoque correspondente\n",
    "def buscar_estoque_similar(row, df_estoque):\n",
    "    # Lista de colunas de materiais para verificar (Material, Atual, Similar1, Similar2, Similar3, Similar4)\n",
    "    materiais = [row['Material'], row['Atual'], row['Similar1'], row['Similar2'], row['Similar3'], row['Similar4']]\n",
    "    \n",
    "    # Procurar em cada material e similar\n",
    "    for material in materiais:\n",
    "        estoque = buscar_estoque(material, df_estoque)\n",
    "        if estoque > 0:\n",
    "            return estoque  # Se encontrar estoque, retornar o valor\n",
    "    \n",
    "    return 0  # Retornar 0 se não encontrar estoque\n",
    "\n",
    "# Aplicar a função no DataFrame do Mapa para trazer o estoque da planilha ztsd017\n",
    "mapa_data['Quant estoque 09/2024'] = mapa_data.apply(lambda row: buscar_estoque_similar(row, ztsd017_data), axis=1)\n",
    "\n"
   ]
  },
  {
   "cell_type": "code",
   "execution_count": null,
   "metadata": {},
   "outputs": [],
   "source": [
    "mapa_data"
   ]
  },
  {
   "cell_type": "code",
   "execution_count": null,
   "metadata": {},
   "outputs": [],
   "source": [
    "mapa_data.to_excel(r'C:\\Users\\fsp_adolpho.salvador\\Desktop\\Materiais_com_Estoque_Atualizado.xlsx', index=False)\n"
   ]
  },
  {
   "cell_type": "code",
   "execution_count": null,
   "metadata": {},
   "outputs": [],
   "source": []
  }
 ],
 "metadata": {
  "kernelspec": {
   "display_name": "Python 3",
   "language": "python",
   "name": "python3"
  },
  "language_info": {
   "codemirror_mode": {
    "name": "ipython",
    "version": 3
   },
   "file_extension": ".py",
   "mimetype": "text/x-python",
   "name": "python",
   "nbconvert_exporter": "python",
   "pygments_lexer": "ipython3",
   "version": "3.12.3"
  }
 },
 "nbformat": 4,
 "nbformat_minor": 2
}
