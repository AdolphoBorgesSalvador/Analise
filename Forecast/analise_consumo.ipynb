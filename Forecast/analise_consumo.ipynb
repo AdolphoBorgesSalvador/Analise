{
 "cells": [
  {
   "cell_type": "markdown",
   "id": "3437f545",
   "metadata": {},
   "source": [
    "# SET"
   ]
  },
  {
   "cell_type": "code",
   "execution_count": null,
   "id": "fa280520",
   "metadata": {},
   "outputs": [],
   "source": [
    "import pandas as pd\n",
    "import numpy as np\n",
    "import matplotlib.pyplot as plt\n",
    "from tensorflow.keras.models import Sequential\n",
    "from tensorflow.keras.layers import LSTM, Dense\n",
    "from sklearn.preprocessing import MinMaxScaler\n",
    "from tensorflow.keras.models import Sequential\n",
    "from tensorflow.keras.layers import LSTM, Dense\n",
    "from sklearn.preprocessing import MinMaxScaler\n",
    "import matplotlib.pyplot as plt\n",
    "import pandas as pd\n",
    "import numpy as np"
   ]
  },
  {
   "cell_type": "code",
   "execution_count": null,
   "id": "288b4e15",
   "metadata": {},
   "outputs": [],
   "source": [
    "def carregar_arquivo_excel(caminho, sheet_name=0, skiprows=None):\n",
    "    return pd.read_excel(caminho, sheet_name=sheet_name, skiprows=skiprows)\n",
    "\n",
    "caminhos = {\n",
    "'caminho_pccc_20_25' : r\"C:\\Users\\fsp_adolpho.salvador\\Desktop\\Konica Minolta\\Desktop Cloud - Documentos\\Desktop\\PCCC_20_25.XLSX\",\n",
    "'caminho_pccc_15_19':  r\"C:\\Users\\fsp_adolpho.salvador\\Desktop\\Konica Minolta\\Desktop Cloud - Documentos\\Desktop\\PCCC_15_19.XLSX\",\n",
    "'caminho_pccc_09_14' : r\"C:\\Users\\fsp_adolpho.salvador\\Desktop\\Konica Minolta\\Desktop Cloud - Documentos\\Desktop\\PCCC_09_14.XLSX\",\n",
    "'caminho_pccc_06_08' : r\"C:\\Users\\fsp_adolpho.salvador\\Desktop\\Konica Minolta\\Desktop Cloud - Documentos\\Desktop\\PCCC_06_08.XLSX\",\n",
    "}\n",
    "\n",
    "\n",
    "\n"
   ]
  },
  {
   "cell_type": "code",
   "execution_count": null,
   "id": "6deee74a",
   "metadata": {},
   "outputs": [],
   "source": [
    "def limpar_colunas(df, colunas_para_remover, nova_index=None, renomear_colunas=None):\n",
    "    df = df.drop(columns=colunas_para_remover, errors='ignore')\n",
    "    df = df.dropna()\n",
    "    if renomear_colunas:\n",
    "        df = df.rename(columns=renomear_colunas)\n",
    "    if nova_index:\n",
    "        df = df.set_index(nova_index)\n",
    "    return df"
   ]
  },
  {
   "cell_type": "code",
   "execution_count": null,
   "id": "0e98eac5",
   "metadata": {},
   "outputs": [],
   "source": [
    "def preparar_dados_lstm(serie, n_steps):\n",
    "    \"\"\"\n",
    "        Transforma uma série temporal em um conjunto de dados supervisionado para treino de LSTM,\n",
    "    usando o padrão de janela deslizante (sliding window).\n",
    "\n",
    "    Parâmetros:\n",
    "    \n",
    "    serie : array-like de shape (n_amostras,) ou (n_amostras, 1)\n",
    "        Série temporal (normalizada) em que cada elemento é uma observação sequencial.\n",
    "    n_steps : int\n",
    "        Número de passos de tempo que formam cada janela de entrada.\n",
    "\n",
    "    Retorna:\n",
    "    \n",
    "    X : np.ndarray de shape (n_amostras - n_steps, n_steps)\n",
    "        Matrizes de entrada para o LSTM, onde cada linha corresponde a uma janela de tamanho n_steps.\n",
    "    y : np.ndarray de shape (n_amostras - n_steps,)\n",
    "        Vetor de saída contendo o valor imediatamente seguinte a cada janela de entrada.\n",
    "    \"\"\"\n",
    "    X, y = [], []\n",
    "    for i in range(n_steps, len(serie)):\n",
    "        X.append(serie[i - n_steps:i])\n",
    "        y.append(serie[i])\n",
    "    return np.array(X), np.array(y)\n"
   ]
  },
  {
   "cell_type": "code",
   "execution_count": null,
   "id": "5d025c54",
   "metadata": {},
   "outputs": [],
   "source": [
    "def prever_demanda_meses(df, n_meses=12):\n",
    "    \"\"\"\n",
    "    Treina um modelo de rede neural LSTM sobre o histórico geral de consumo mensal\n",
    "    e gera previsões para os próximos meses.\n",
    "\n",
    "    Descrição:\n",
    "    - O DataFrame é agrupado por mês de lançamento, somando as quantidades movimentadas.\n",
    "    - A série temporal é normalizada entre 0 e 1 usando MinMaxScaler.\n",
    "    - Utiliza-se uma janela de 192 meses como entrada para o modelo (n_steps=192).\n",
    "    - Um modelo LSTM é treinado para aprender o padrão do consumo mensal.\n",
    "    - Após o treinamento, são geradas previsões para os próximos 'n_meses' meses.\n",
    "    - As previsões são revertidas à escala original e plotadas junto ao histórico recente.\n",
    "\n",
    "    Parâmetros:\n",
    "    - df (DataFrame): Dados de entrada contendo pelo menos as colunas:\n",
    "        - 'Data de lançamento' (datas dos registros)\n",
    "        - 'Qtd.  UM registro' (quantidade movimentada)\n",
    "    - n_meses (int, opcional): Número de meses futuros que deseja prever. Padrão é 12.\n",
    "\n",
    "    Retorno:\n",
    "    - DataFrame com as colunas:\n",
    "        - 'Mês Previsto': Período previsto no formato 'YYYY-MM'\n",
    "        - 'Qtd Prevista': Quantidade estimada para o respectivo mês\n",
    "\n",
    "    Observações:\n",
    "    - A função exibe um gráfico com o histórico recente (a partir de 2023) e as previsões para facilitar a análise visual.\n",
    "    - É recomendado que o DataFrame de entrada contenha pelo menos 200 meses de histórico para garantir treinamento adequado.\n",
    "    \"\"\"\n",
    "\n",
    "\n",
    "    df = df.rename(columns=lambda x: x.strip())\n",
    "    df = df.rename(columns={'Qtd.  UM registro': 'Qtd'})\n",
    "\n",
    "    serie_mensal = df.groupby('Data de lançamento')['Qtd'].sum().sort_index()\n",
    "\n",
    "    scaler = MinMaxScaler()\n",
    "    serie_normalizada = scaler.fit_transform(serie_mensal.values.reshape(-1, 1))\n",
    "\n",
    "    n_steps = 192\n",
    "    X, y = preparar_dados_lstm(serie_normalizada, n_steps)\n",
    "    X = X.reshape((X.shape[0], X.shape[1], 1))\n",
    "\n",
    "    model = Sequential()\n",
    "    model.add(LSTM(50, activation='relu', input_shape=(n_steps, 1)))\n",
    "    model.add(Dense(1))\n",
    "    model.compile(optimizer='adam', loss='mse')\n",
    "    model.fit(X, y, epochs=400, verbose=0)\n",
    "\n",
    "    previsoes = []\n",
    "    ultimos_passos = serie_normalizada[-n_steps:]\n",
    "\n",
    "    for _ in range(n_meses):\n",
    "        entrada = ultimos_passos.reshape((1, n_steps, 1))\n",
    "        pred = model.predict(entrada, verbose=0)\n",
    "        previsoes.append(pred[0][0])\n",
    "        ultimos_passos = np.append(ultimos_passos[1:], pred, axis=0)\n",
    "\n",
    "    previsoes_reais = scaler.inverse_transform(np.array(previsoes).reshape(-1, 1)).flatten()\n",
    "\n",
    "    ultimo_mes = pd.to_datetime(serie_mensal.index[-1] + \"-01\")\n",
    "    proximos_meses = pd.date_range(start=ultimo_mes + pd.offsets.MonthBegin(), periods=n_meses, freq='MS').strftime('%Y-%m')\n",
    "\n",
    "    tabela_previsoes = pd.DataFrame({\n",
    "        'Mês Previsto': proximos_meses,\n",
    "        'Qtd Prevista': previsoes_reais\n",
    "    })\n",
    "\n",
    "    serie_plot = pd.concat([serie_mensal[serie_mensal.index >= '2023-01'], \n",
    "                            pd.Series(previsoes_reais, index=proximos_meses)])\n",
    "    serie_plot = serie_plot[serie_plot.index >= '2024-01']\n",
    "\n",
    "    plt.figure(figsize=(10, 5))\n",
    "    plt.plot(serie_plot.index, serie_plot.values, marker='o', linestyle='-')\n",
    "    plt.title(f'Previsão de Demanda para 2024')\n",
    "    plt.xlabel('Mês')\n",
    "    plt.ylabel('Quantidade')\n",
    "    plt.xticks(rotation=45)\n",
    "    plt.grid(True)\n",
    "    plt.tight_layout()\n",
    "    plt.show()\n",
    "\n",
    "    return tabela_previsoes\n"
   ]
  },
  {
   "cell_type": "code",
   "execution_count": null,
   "id": "43c4aa7e",
   "metadata": {},
   "outputs": [],
   "source": [
    "\n",
    "\n",
    "def prever_demanda_lstm_por_material_az(df, materiais_az, n_steps=12, n_meses_prever=6, n_epochs=300):\n",
    "    \"\"\"\n",
    "Treina e gera previsões de demanda usando um modelo LSTM separado para cada material listado.\n",
    "\n",
    "Descrição:\n",
    "- Para cada material informado, a função constrói uma série temporal mensal a partir do histórico de vendas/consumo.\n",
    "- Em seguida, prepara os dados em formato supervisionado (usando janelas de n_steps meses anteriores para prever o mês seguinte).\n",
    "- Treina um modelo de rede neural LSTM individualmente para cada material, utilizando apenas seus próprios dados históricos.\n",
    "- Após o treinamento, gera previsões para os próximos meses e plota um gráfico com:\n",
    "  - Linha histórica (consumo real)\n",
    "  - Linha prevista (projeção da IA)\n",
    "\n",
    "Parâmetros:\n",
    "- df (DataFrame): DataFrame contendo os dados históricos, obrigatoriamente com as colunas:\n",
    "    - 'Material': código ou nome do material.\n",
    "    - 'Data de lançamento': data do registro de movimentação (estoque/consumo).\n",
    "    - 'Qtd. UM registro': quantidade movimentada nesse lançamento.\n",
    "- materiais_az (list ou array): Lista de materiais que serão previstos individualmente (ex: ['A33K133', 'PAPEL COUCHE']).\n",
    "- n_steps (int, opcional): Número de meses consecutivos usados como janela de entrada para a rede LSTM (padrão = 12).\n",
    "- n_meses_prever (int, opcional): Quantidade de meses futuros a serem previstos após o fim da série histórica (padrão = 6).\n",
    "- n_epochs (int, opcional): Número de épocas de treinamento do modelo LSTM para cada material (padrão = 300).\n",
    "\n",
    "Notas:\n",
    "- Materiais com histórico insuficiente (menos de `n_steps + 1` meses) serão automaticamente ignorados.\n",
    "- A normalização dos dados é feita internamente usando MinMaxScaler para otimizar o desempenho do LSTM.\n",
    "- Cada material é tratado de forma independente, com um modelo próprio e previsões específicas.\n",
    "    \"\"\"\n",
    "\n",
    "    # Garantir formato de data e criar coluna AnoMes\n",
    "    df = df.copy()\n",
    "    df['Data de lançamento'] = pd.to_datetime(df['Data de lançamento'])\n",
    "    df['AnoMes'] = df['Data de lançamento'].dt.to_period('M')\n",
    "\n",
    "    def preparar_dados_lstm(serie, n_steps):\n",
    "        X, y = [], []\n",
    "        for i in range(n_steps, len(serie)):\n",
    "            X.append(serie[i - n_steps:i])\n",
    "            y.append(serie[i])\n",
    "        return np.array(X), np.array(y)\n",
    "\n",
    "    for mat in materiais_az:\n",
    "        dados_mat = df[df['Material'] == mat]\n",
    "        serie_mensal = dados_mat.groupby('AnoMes')['Qtd.  UM registro'].sum().sort_index()\n",
    "\n",
    "        if len(serie_mensal) < n_steps + 1:\n",
    "            print(f\"Pulando {mat} - poucos dados ({len(serie_mensal)} meses)\")\n",
    "            continue\n",
    "\n",
    "        scaler = MinMaxScaler()\n",
    "        serie_normalizada = scaler.fit_transform(serie_mensal.values.reshape(-1, 1))\n",
    "\n",
    "        X, y = preparar_dados_lstm(serie_normalizada, n_steps)\n",
    "        X = X.reshape((X.shape[0], X.shape[1], 1))\n",
    "\n",
    "        model = Sequential()\n",
    "        model.add(LSTM(50, activation='relu', input_shape=(n_steps, 1)))\n",
    "        model.add(Dense(1))\n",
    "        model.compile(optimizer='adam', loss='mse')\n",
    "        model.fit(X, y, epochs=n_epochs, verbose=0)\n",
    "\n",
    "        previsoes = []\n",
    "        entrada = serie_normalizada[-n_steps:]\n",
    "\n",
    "        for _ in range(n_meses_prever):\n",
    "            entrada_reshaped = entrada.reshape((1, n_steps, 1))\n",
    "            pred = model.predict(entrada_reshaped, verbose=0)[0][0]\n",
    "            previsoes.append(pred)\n",
    "            entrada = np.append(entrada[1:], [[pred]], axis=0)\n",
    "\n",
    "        previsoes_reais = scaler.inverse_transform(np.array(previsoes).reshape(-1, 1)).flatten()\n",
    "\n",
    "        plt.figure(figsize=(10, 4))\n",
    "        plt.plot(serie_mensal.index.astype(str), serie_mensal.values, label='Histórico')\n",
    "        proximos_meses = pd.date_range(start=serie_mensal.index[-1].to_timestamp() + pd.offsets.MonthBegin(),\n",
    "                                       periods=n_meses_prever, freq='MS').strftime('%Y-%m')\n",
    "        plt.plot(proximos_meses, previsoes_reais, label='Previsão', marker='o')\n",
    "        plt.title(f'Previsão para {mat} (Classe AZ)')\n",
    "        plt.xlabel('Mês')\n",
    "        plt.ylabel('Quantidade')\n",
    "        plt.xticks(rotation=45)\n",
    "        plt.legend()\n",
    "        plt.tight_layout()\n",
    "        plt.show()\n"
   ]
  },
  {
   "cell_type": "code",
   "execution_count": null,
   "id": "4b5d72b7",
   "metadata": {},
   "outputs": [],
   "source": [
    "def tratar_dados(df: pd.DataFrame) -> pd.DataFrame:\n",
    "    df['Data de lançamento'] = pd.to_datetime(df['Data de lançamento'], errors='coerce')\n",
    "    \n",
    "    df['Data de lançamento'] = df['Data de lançamento'].dt.to_period('M').astype(str)\n",
    "\n",
    "    df['Qtd.  UM registro'] = df['Qtd.  UM registro'] * -1\n",
    "\n",
    "    return df\n"
   ]
  },
  {
   "cell_type": "markdown",
   "id": "d3f98e60",
   "metadata": {},
   "source": [
    "### Limpando"
   ]
  },
  {
   "cell_type": "code",
   "execution_count": null,
   "id": "9af7196b",
   "metadata": {},
   "outputs": [],
   "source": [
    "pccc_20_25 = carregar_arquivo_excel(caminhos['caminho_pccc_20_25'])\n",
    "pccc_15_19 = carregar_arquivo_excel(caminhos['caminho_pccc_15_19'])\n",
    "pccc_09_14 = carregar_arquivo_excel(caminhos['caminho_pccc_09_14'])\n",
    "pccc_06_08 = carregar_arquivo_excel(caminhos['caminho_pccc_06_08'])"
   ]
  },
  {
   "cell_type": "code",
   "execution_count": null,
   "id": "59ce2881",
   "metadata": {},
   "outputs": [],
   "source": [
    "pccc_20_25.columns"
   ]
  },
  {
   "cell_type": "code",
   "execution_count": null,
   "id": "7013ab4f",
   "metadata": {},
   "outputs": [],
   "source": [
    "colunas_remover = ['Centro', 'Depósito', 'Tipo de movimento',\n",
    "       'Estoque especial', 'Doc.material', 'Item doc.material','UM registro', 'Cliente',\n",
    "       'Fornecedor', 'Nome 1', 'Canal', 'Classificação']\n",
    "\n",
    "\n",
    "\n",
    "pccc_20_25 = limpar_colunas(pccc_20_25, colunas_remover, nova_index='Material')\n",
    "pccc_15_19 = limpar_colunas(pccc_15_19, colunas_remover, nova_index='Material')\n",
    "pccc_09_14 = limpar_colunas(pccc_09_14, colunas_remover, nova_index='Material')\n",
    "pccc_06_08 = limpar_colunas(pccc_06_08, colunas_remover, nova_index='Material')\n",
    "\n",
    "\n"
   ]
  },
  {
   "cell_type": "code",
   "execution_count": null,
   "id": "2fcab0c7",
   "metadata": {},
   "outputs": [],
   "source": [
    "pccc_total = pd.concat([pccc_20_25, pccc_15_19, pccc_09_14, pccc_06_08], ignore_index=True)"
   ]
  },
  {
   "cell_type": "code",
   "execution_count": null,
   "id": "ee20931e",
   "metadata": {},
   "outputs": [],
   "source": [
    "pccc_total = tratar_dados(pccc_total)"
   ]
  },
  {
   "cell_type": "code",
   "execution_count": null,
   "id": "085b667b",
   "metadata": {},
   "outputs": [],
   "source": [
    "pccc_total.columns"
   ]
  },
  {
   "cell_type": "code",
   "execution_count": null,
   "id": "4847361d",
   "metadata": {},
   "outputs": [],
   "source": [
    "pccc_ate_2023 = pccc_total[pccc_total['Data de lançamento'] < '2024-01']\n"
   ]
  },
  {
   "cell_type": "code",
   "execution_count": null,
   "id": "1614543e",
   "metadata": {},
   "outputs": [],
   "source": [
    "pccc_total"
   ]
  },
  {
   "cell_type": "code",
   "execution_count": null,
   "id": "ade25627",
   "metadata": {},
   "outputs": [],
   "source": [
    "pccc_ate_2023"
   ]
  },
  {
   "cell_type": "markdown",
   "id": "bb884b38",
   "metadata": {},
   "source": [
    "# consolidado"
   ]
  },
  {
   "cell_type": "code",
   "execution_count": null,
   "id": "4feda03e",
   "metadata": {},
   "outputs": [],
   "source": [
    "tabela_2024 = prever_demanda_meses(pccc_ate_2023, n_meses=12)\n",
    "print(tabela_2024.to_string(index=False))"
   ]
  },
  {
   "cell_type": "code",
   "execution_count": null,
   "id": "76872613",
   "metadata": {},
   "outputs": [],
   "source": [
    "pccc_total.columns = pccc_total.columns.str.strip()\n",
    "pccc_total = pccc_total.rename(columns={'Qtd.  UM registro': 'Qtd'})\n",
    "\n",
    "pccc_2024 = pccc_total[pccc_total['Data de lançamento'].str.startswith('2024')]\n",
    "\n",
    "tabela_2024 = pccc_2024.groupby('Data de lançamento')['Qtd'].sum().reset_index()\n",
    "tabela_2024.columns = ['Mês', 'Quantidade Total']\n",
    "\n",
    "print(\"\\n Valores já registrados em 2024 no pccc_total:\\n\")\n",
    "print(tabela_2024.to_string(index=False))\n"
   ]
  },
  {
   "cell_type": "markdown",
   "id": "cc50e952",
   "metadata": {},
   "source": [
    "### Comparação de tabelas"
   ]
  },
  {
   "cell_type": "code",
   "execution_count": null,
   "id": "b55774d7",
   "metadata": {},
   "outputs": [],
   "source": [
    "previsao_2024 = pd.DataFrame({\n",
    "    'Mês': [\n",
    "        '2024-01', '2024-02', '2024-03', '2024-04', '2024-05', '2024-06',\n",
    "        '2024-07', '2024-08', '2024-09', '2024-10', '2024-11', '2024-12'\n",
    "    ],\n",
    "    'Qtd Prevista': [\n",
    "        18919.91, 19154.69, 19202.46, 19250.48, 19288.11, 19320.03,\n",
    "        19348.03, 19373.22, 19396.05, 19417.14, 19436.68, 19454.69\n",
    "    ]\n",
    "})\n",
    "\n",
    "real_2024 = pd.DataFrame({\n",
    "    'Mês': [\n",
    "        '2024-01', '2024-02', '2024-03', '2024-04', '2024-05', '2024-06',\n",
    "        '2024-07', '2024-08', '2024-09', '2024-10', '2024-11', '2024-12'\n",
    "    ],\n",
    "    'Qtd Real': [\n",
    "        16951, 15910, 20799, 24695, 21079, 18761,\n",
    "        23163, 18830, 21348, 25105, 21031, 37398\n",
    "    ]\n",
    "})\n",
    "\n",
    "comparacao = pd.merge(previsao_2024, real_2024, on='Mês')\n",
    "comparacao['Erro Absoluto'] = abs(comparacao['Qtd Prevista'] - comparacao['Qtd Real'])\n",
    "comparacao['Erro (%)'] = 100 * comparacao['Erro Absoluto'] / comparacao['Qtd Real']\n",
    "\n",
    "mape = comparacao['Erro (%)'].mean()\n",
    "\n",
    "print(\"\\n Comparação entre Previsão e Real (2024)(n=12, epo =400):\\n\")\n",
    "print(comparacao.to_string(index=False))\n",
    "print(f\"\\n MAPE (Erro Percentual Médio): {mape:.2f}%\")\n"
   ]
  },
  {
   "cell_type": "code",
   "execution_count": null,
   "id": "7e0d1f6e",
   "metadata": {},
   "outputs": [],
   "source": [
    "\n",
    "# Previsões geradas\n",
    "previsao_2024 = pd.DataFrame({\n",
    "    'Mês': [\n",
    "        '2024-01', '2024-02', '2024-03', '2024-04', '2024-05', '2024-06',\n",
    "        '2024-07', '2024-08', '2024-09', '2024-10', '2024-11', '2024-12'\n",
    "    ],\n",
    "    'Qtd Prevista': [\n",
    "        18919.91, 19154.69, 19202.46, 19250.48, 19288.11, 19320.03,\n",
    "        19348.03, 19373.22, 19396.05, 19417.14, 19436.68, 19454.69\n",
    "    ]\n",
    "})\n",
    "\n",
    "# Valores reais extraídos do pccc_total\n",
    "real_2024 = pd.DataFrame({\n",
    "    'Mês': [\n",
    "        '2024-01', '2024-02', '2024-03', '2024-04', '2024-05', '2024-06',\n",
    "        '2024-07', '2024-08', '2024-09', '2024-10', '2024-11', '2024-12'\n",
    "    ],\n",
    "    'Qtd Real': [\n",
    "        16951, 15910, 20799, 24695, 21079, 18761,\n",
    "        23163, 18830, 21348, 25105, 21031, 37398\n",
    "    ]\n",
    "})\n",
    "\n",
    "comparacao = pd.merge(previsao_2024, real_2024, on='Mês')\n",
    "comparacao['Erro Absoluto'] = abs(comparacao['Qtd Prevista'] - comparacao['Qtd Real'])\n",
    "comparacao['Erro (%)'] = 100 * comparacao['Erro Absoluto'] / comparacao['Qtd Real']\n",
    "\n",
    "mape = comparacao['Erro (%)'].mean()\n",
    "\n",
    "# Mostrar\n",
    "print(\"\\n Comparação entre Previsão e Real (2024)  (n_steps = 72,epochs=400):\\n\")\n",
    "print(comparacao.to_string(index=False))\n",
    "print(f\"\\n MAPE (Erro Percentual Médio): {mape:.2f}%\")"
   ]
  },
  {
   "cell_type": "code",
   "execution_count": null,
   "id": "6d4c0dcb",
   "metadata": {},
   "outputs": [],
   "source": [
    "previsao_2024 = pd.DataFrame({\n",
    "    'Mês': [\n",
    "        '2024-01', '2024-02', '2024-03', '2024-04', '2024-05', '2024-06',\n",
    "        '2024-07', '2024-08', '2024-09', '2024-10', '2024-11', '2024-12'\n",
    "    ],\n",
    "    'Qtd Prevista': [\n",
    "        19973.26, 20298.67, 20643.86, 21008.06, 21390.83, 21792.33,\n",
    "        22212.87, 22653.00, 23113.56, 23595.57, 24100.38, 24629.71\n",
    "    ]\n",
    "})\n",
    "\n",
    "# Valores reais extraídos do pccc_total\n",
    "real_2024 = pd.DataFrame({\n",
    "    'Mês': [\n",
    "        '2024-01', '2024-02', '2024-03', '2024-04', '2024-05', '2024-06',\n",
    "        '2024-07', '2024-08', '2024-09', '2024-10', '2024-11', '2024-12'\n",
    "    ],\n",
    "    'Qtd Real': [\n",
    "        16951, 15910, 20799, 24695, 21079, 18761,\n",
    "        23163, 18830, 21348, 25105, 21031, 37398\n",
    "    ]\n",
    "})\n",
    "\n",
    "# Unir as tabelas\n",
    "comparacao = pd.merge(previsao_2024, real_2024, on='Mês')\n",
    "comparacao['Erro Absoluto'] = abs(comparacao['Qtd Prevista'] - comparacao['Qtd Real'])\n",
    "comparacao['Erro (%)'] = 100 * comparacao['Erro Absoluto'] / comparacao['Qtd Real']\n",
    "\n",
    "# Calcular MAPE\n",
    "mape = comparacao['Erro (%)'].mean()\n",
    "\n",
    "# Mostrar\n",
    "print(\"\\n Comparação entre Previsão e Real (2024)  (n_steps = 194,epochs=400):\\n\")\n",
    "print(comparacao.to_string(index=False))\n",
    "print(f\"\\n MAPE (Erro Percentual Médio): {mape:.2f}%\")"
   ]
  },
  {
   "cell_type": "markdown",
   "id": "6a43f683",
   "metadata": {},
   "source": [
    "# canal"
   ]
  },
  {
   "cell_type": "code",
   "execution_count": null,
   "id": "bf09539b",
   "metadata": {},
   "outputs": [],
   "source": [
    "pccc_20_25 = carregar_arquivo_excel(caminhos['caminho_pccc_20_25'])\n",
    "pccc_15_19 = carregar_arquivo_excel(caminhos['caminho_pccc_15_19'])\n",
    "pccc_09_14 = carregar_arquivo_excel(caminhos['caminho_pccc_09_14'])\n",
    "pccc_06_08 = carregar_arquivo_excel(caminhos['caminho_pccc_06_08'])"
   ]
  },
  {
   "cell_type": "code",
   "execution_count": null,
   "id": "83dfba99",
   "metadata": {},
   "outputs": [],
   "source": [
    "pccc_total = pd.concat([pccc_20_25, pccc_15_19,pccc_09_14,pccc_06_08])"
   ]
  },
  {
   "cell_type": "code",
   "execution_count": null,
   "id": "39ba529e",
   "metadata": {},
   "outputs": [],
   "source": [
    "pccc_total.columns"
   ]
  },
  {
   "cell_type": "code",
   "execution_count": null,
   "id": "80d716c1",
   "metadata": {},
   "outputs": [],
   "source": [
    "pccc_total['Canal'].unique()"
   ]
  },
  {
   "cell_type": "code",
   "execution_count": null,
   "id": "1785ded2",
   "metadata": {},
   "outputs": [],
   "source": [
    "pccc_venda_indireta = pccc_total[pccc_total['Canal'].str.upper().str.strip() == 'VENDA INDIRETA']\n",
    "pccc_venda_direta = pccc_total[pccc_total['Canal'].str.upper().str.strip() == 'VENDA DIRETA']\n"
   ]
  },
  {
   "cell_type": "code",
   "execution_count": null,
   "id": "7ad5362f",
   "metadata": {},
   "outputs": [],
   "source": [
    "pccc_venda_indireta.columns"
   ]
  },
  {
   "cell_type": "code",
   "execution_count": null,
   "id": "49ef80f3",
   "metadata": {},
   "outputs": [],
   "source": [
    "colunas_remover = ['Centro', 'Depósito', 'Tipo de movimento',\n",
    "       'Estoque especial', 'Doc.material', 'Item doc.material','UM registro', 'Cliente',\n",
    "       'Fornecedor', 'Nome 1', 'Classificação']\n",
    "\n",
    "pccc_venda_indireta = limpar_colunas(pccc_venda_indireta, colunas_remover, nova_index='Material')\n",
    "pccc_venda_direta = limpar_colunas(pccc_venda_direta, colunas_remover, nova_index='Material')"
   ]
  },
  {
   "cell_type": "code",
   "execution_count": null,
   "id": "457a6871",
   "metadata": {},
   "outputs": [],
   "source": [
    "pccc_venda_indireta"
   ]
  },
  {
   "cell_type": "code",
   "execution_count": null,
   "id": "aba5b1f4",
   "metadata": {},
   "outputs": [],
   "source": [
    "pccc_venda_indireta = tratar_dados(pccc_venda_indireta)\n",
    "pccc_venda_direta = tratar_dados(pccc_venda_direta)"
   ]
  },
  {
   "cell_type": "markdown",
   "id": "53d25aa3",
   "metadata": {},
   "source": [
    "## direta"
   ]
  },
  {
   "cell_type": "code",
   "execution_count": null,
   "id": "b00ad216",
   "metadata": {},
   "outputs": [],
   "source": [
    "df_lstm_direta = pccc_venda_direta.groupby(['Canal', 'Data de lançamento'])['Qtd.  UM registro'].sum().reset_index()\n"
   ]
  },
  {
   "cell_type": "code",
   "execution_count": null,
   "id": "fc7e3a64",
   "metadata": {},
   "outputs": [],
   "source": [
    "df_lstm_direta"
   ]
  },
  {
   "cell_type": "code",
   "execution_count": null,
   "id": "81253c13",
   "metadata": {},
   "outputs": [],
   "source": [
    "df_lstm_direta = df_lstm_direta[df_lstm_direta['Data de lançamento'] <= '2023-12']\n",
    "df_lstm_direta"
   ]
  },
  {
   "cell_type": "code",
   "execution_count": null,
   "id": "8a17cda6",
   "metadata": {},
   "outputs": [],
   "source": [
    "prever_demanda_meses(df_lstm_direta, n_meses=12)"
   ]
  },
  {
   "cell_type": "code",
   "execution_count": null,
   "id": "67c6dfa4",
   "metadata": {},
   "outputs": [],
   "source": [
    "pccc_venda_direta_2024 = pccc_venda_direta[pccc_venda_direta['Data de lançamento'].str.startswith('2024')]"
   ]
  },
  {
   "cell_type": "code",
   "execution_count": null,
   "id": "9ff1096d",
   "metadata": {},
   "outputs": [],
   "source": [
    "tabela_venda_direta_2024 = (\n",
    "    pccc_venda_direta_2024\n",
    "    .groupby('Data de lançamento')['Qtd.  UM registro']\n",
    "    .sum()\n",
    "    .reset_index()\n",
    ")\n",
    "\n",
    "# Renomear colunas pra ficar bonitinho\n",
    "tabela_venda_direta_2024.columns = ['Mês', 'Quantidade Total']\n"
   ]
  },
  {
   "cell_type": "code",
   "execution_count": null,
   "id": "c3983571",
   "metadata": {},
   "outputs": [],
   "source": [
    "tabela_venda_direta_2024"
   ]
  },
  {
   "cell_type": "markdown",
   "id": "50115845",
   "metadata": {},
   "source": [
    "### Analisando resultados"
   ]
  },
  {
   "cell_type": "code",
   "execution_count": null,
   "id": "2e1469bd",
   "metadata": {},
   "outputs": [],
   "source": [
    "\n",
    "real_venda_direta_2024 = pd.DataFrame({\n",
    "    'Mês': [\n",
    "        '2024-01', '2024-02', '2024-03', '2024-04', '2024-05', '2024-06',\n",
    "        '2024-07', '2024-08', '2024-09', '2024-10', '2024-11', '2024-12'\n",
    "    ],\n",
    "    'Qtd Real': [\n",
    "        5365, 5276, 7077, 7062, 5387, 5780,\n",
    "        6705, 7058, 6282, 6961, 6644, 6875\n",
    "    ]\n",
    "})\n",
    "\n",
    "previsao_venda_direta_2024 = pd.DataFrame({\n",
    "    'Mês': [\n",
    "        '2024-01', '2024-02', '2024-03', '2024-04', '2024-05', '2024-06',\n",
    "        '2024-07', '2024-08', '2024-09', '2024-10', '2024-11', '2024-12'\n",
    "    ],\n",
    "    'Qtd Prevista': [\n",
    "        6552.55, 6542.64, 6534.02, 6526.04, 6518.63, 6511.72,\n",
    "        6505.28, 6499.25, 6493.62, 6488.34, 6483.39, 6478.75\n",
    "    ]\n",
    "})\n",
    "\n",
    "comparacao = pd.merge(real_venda_direta_2024, previsao_venda_direta_2024, on='Mês')\n",
    "comparacao['Erro Absoluto'] = abs(comparacao['Qtd Prevista'] - comparacao['Qtd Real'])\n",
    "comparacao['Erro (%)'] = 100 * comparacao['Erro Absoluto'] / comparacao['Qtd Real']\n",
    "\n",
    "mape = comparacao['Erro (%)'].mean()\n",
    "\n",
    "print(\"\\n Comparação VENDA DIRETA 2024:\\n\")\n",
    "print(comparacao.to_string(index=False))\n",
    "print(f\"\\n MAPE (Erro Percentual Médio): {mape:.2f}%\")"
   ]
  },
  {
   "cell_type": "markdown",
   "id": "37f9e48c",
   "metadata": {},
   "source": [
    "## indireta"
   ]
  },
  {
   "cell_type": "code",
   "execution_count": null,
   "id": "22ca3217",
   "metadata": {},
   "outputs": [],
   "source": [
    "df_lstm_indireta = pccc_venda_indireta.groupby(['Canal', 'Data de lançamento'])['Qtd.  UM registro'].sum().reset_index()\n"
   ]
  },
  {
   "cell_type": "code",
   "execution_count": null,
   "id": "f0f1d77a",
   "metadata": {},
   "outputs": [],
   "source": [
    "df_lstm_indireta = df_lstm_indireta[df_lstm_indireta['Data de lançamento'] <= '2023-12']\n"
   ]
  },
  {
   "cell_type": "code",
   "execution_count": null,
   "id": "31c318a1",
   "metadata": {},
   "outputs": [],
   "source": [
    "df_lstm_indireta"
   ]
  },
  {
   "cell_type": "code",
   "execution_count": null,
   "id": "d33f175f",
   "metadata": {},
   "outputs": [],
   "source": [
    "prever_demanda_meses(df_lstm_indireta, n_meses=12)"
   ]
  },
  {
   "cell_type": "code",
   "execution_count": null,
   "id": "eadff451",
   "metadata": {},
   "outputs": [],
   "source": [
    "pccc_venda_indireta_2024 = pccc_venda_indireta[pccc_venda_indireta['Data de lançamento'].str.startswith('2024')]\n",
    "\n",
    "tabela_venda_indireta_2024 = (\n",
    "    pccc_venda_indireta_2024\n",
    "    .groupby('Data de lançamento')['Qtd.  UM registro']\n",
    "    .sum()\n",
    "    .reset_index()\n",
    ")\n",
    "\n",
    "# Renomear colunas pra ficar bonitinho\n",
    "tabela_venda_indireta_2024.columns = ['Mês', 'Quantidade Total']"
   ]
  },
  {
   "cell_type": "code",
   "execution_count": null,
   "id": "b39b15d8",
   "metadata": {},
   "outputs": [],
   "source": [
    "tabela_venda_indireta_2024"
   ]
  },
  {
   "cell_type": "markdown",
   "id": "5b487789",
   "metadata": {},
   "source": [
    "### Analisando resultados"
   ]
  },
  {
   "cell_type": "code",
   "execution_count": null,
   "id": "ca3f6594",
   "metadata": {},
   "outputs": [],
   "source": [
    "\n",
    "real_2024_indireta = pd.DataFrame({\n",
    "    'Mês': [\n",
    "        '2024-01', '2024-02', '2024-03', '2024-04', '2024-05', '2024-06',\n",
    "        '2024-07', '2024-08', '2024-09', '2024-10', '2024-11', '2024-12'\n",
    "    ],\n",
    "    'Qtd Real': [\n",
    "        11538, 10612, 13654, 15540, 15659, 12850,\n",
    "        16388, 11727, 15035, 18086, 11602, 30453\n",
    "    ]\n",
    "})\n",
    "\n",
    "previsto_2024_indireta = pd.DataFrame({\n",
    "    'Mês': [\n",
    "        '2024-01', '2024-02', '2024-03', '2024-04', '2024-05', '2024-06',\n",
    "        '2024-07', '2024-08', '2024-09', '2024-10', '2024-11', '2024-12'\n",
    "    ],\n",
    "    'Qtd Prevista': [\n",
    "        13020.82, 13276.03, 13542.58, 13823.19, 14119.71, 14434.00,\n",
    "        14768.21, 15124.79, 15506.56, 15916.78, 16359.24, 16838.38\n",
    "    ]\n",
    "})\n",
    "\n",
    "comparacao = pd.merge(real_2024_indireta, previsto_2024_indireta, on='Mês')\n",
    "comparacao['Erro Absoluto'] = abs(comparacao['Qtd Real'] - comparacao['Qtd Prevista'])\n",
    "comparacao['Erro (%)'] = 100 * comparacao['Erro Absoluto'] / comparacao['Qtd Real']\n",
    "\n",
    "mape = comparacao['Erro (%)'].mean()\n",
    "\n",
    "print(\"\\n Comparação VENDA INDIRETA 2024:\\n\")\n",
    "print(comparacao.to_string(index=False))\n",
    "print(f\"\\n MAPE (Erro Percentual Médio): {mape:.2f}%\")\n"
   ]
  },
  {
   "cell_type": "markdown",
   "id": "53fca30d",
   "metadata": {},
   "source": [
    "# material"
   ]
  },
  {
   "cell_type": "markdown",
   "id": "fa375632",
   "metadata": {},
   "source": [
    "## abc/xyz 19 anos"
   ]
  },
  {
   "cell_type": "code",
   "execution_count": null,
   "id": "9ab3fc1e",
   "metadata": {},
   "outputs": [],
   "source": [
    "pccc_20_25 = carregar_arquivo_excel(caminhos['caminho_pccc_20_25'])\n",
    "pccc_15_19 = carregar_arquivo_excel(caminhos['caminho_pccc_15_19'])\n",
    "pccc_09_14 = carregar_arquivo_excel(caminhos['caminho_pccc_09_14'])\n",
    "pccc_06_08 = carregar_arquivo_excel(caminhos['caminho_pccc_06_08'])"
   ]
  },
  {
   "cell_type": "code",
   "execution_count": null,
   "id": "abb10497",
   "metadata": {},
   "outputs": [],
   "source": [
    "pccc_total = pd.concat([pccc_20_25, pccc_15_19,pccc_09_14,pccc_06_08])"
   ]
  },
  {
   "cell_type": "code",
   "execution_count": null,
   "id": "1d215b88",
   "metadata": {},
   "outputs": [],
   "source": [
    "pccc_total"
   ]
  },
  {
   "cell_type": "code",
   "execution_count": null,
   "id": "0b9baf47",
   "metadata": {},
   "outputs": [],
   "source": [
    "pccc_total = tratar_dados(pccc_total)"
   ]
  },
  {
   "cell_type": "code",
   "execution_count": null,
   "id": "55c1cbc1",
   "metadata": {},
   "outputs": [],
   "source": [
    "pccc_total"
   ]
  },
  {
   "cell_type": "code",
   "execution_count": null,
   "id": "e480616c",
   "metadata": {},
   "outputs": [],
   "source": [
    "pccc_total.columns"
   ]
  },
  {
   "cell_type": "code",
   "execution_count": null,
   "id": "e105843a",
   "metadata": {},
   "outputs": [],
   "source": [
    "pccc_total['Data de lançamento'] = pd.to_datetime(pccc_total['Data de lançamento'])\n",
    "pccc_total['AnoMes'] = pccc_total['Data de lançamento'].dt.to_period('M')\n",
    "\n",
    "demanda_mensal = pccc_total.groupby(['Material', 'AnoMes'])['Qtd.  UM registro'].sum().unstack(fill_value=0)\n"
   ]
  },
  {
   "cell_type": "code",
   "execution_count": null,
   "id": "740efd73",
   "metadata": {},
   "outputs": [],
   "source": [
    "total_por_material = demanda_mensal.sum(axis=1)\n",
    "percentual = total_por_material / total_por_material.sum()\n",
    "\n",
    "# Ordenar do maior pro menor\n",
    "df_abc = percentual.sort_values(ascending=False).cumsum()\n",
    "\n",
    "# Criar categoria ABC\n",
    "def classificar_abc(x):\n",
    "    if x <= 0.8:\n",
    "        return 'A'\n",
    "    elif x <= 0.95:\n",
    "        return 'B'\n",
    "    else:\n",
    "        return 'C'\n",
    "\n",
    "classe_abc = df_abc.apply(classificar_abc)\n"
   ]
  },
  {
   "cell_type": "code",
   "execution_count": null,
   "id": "be21fa87",
   "metadata": {},
   "outputs": [],
   "source": [
    "media = demanda_mensal.mean(axis=1)\n",
    "desvio = demanda_mensal.std(axis=1)\n",
    "cv = (desvio / media).fillna(0)\n",
    "\n",
    "def classificar_xyz(x):\n",
    "    if x <= 0.5:\n",
    "        return 'X'\n",
    "    elif x <= 1:\n",
    "        return 'Y'\n",
    "    else:\n",
    "        return 'Z'\n",
    "\n",
    "classe_xyz = cv.apply(classificar_xyz)\n"
   ]
  },
  {
   "cell_type": "code",
   "execution_count": null,
   "id": "33cee94b",
   "metadata": {},
   "outputs": [],
   "source": [
    "df_classificacao = pd.DataFrame({\n",
    "    'Total Movimentado': total_por_material,\n",
    "    'Classe ABC': classe_abc,\n",
    "    'Coef. Variação': cv,\n",
    "    'Classe XYZ': classe_xyz\n",
    "})\n",
    "\n",
    "df_classificacao['Classe ABC/XYZ'] = df_classificacao['Classe ABC'] + df_classificacao['Classe XYZ']\n"
   ]
  },
  {
   "cell_type": "code",
   "execution_count": null,
   "id": "380fac9e",
   "metadata": {},
   "outputs": [],
   "source": [
    "df_classificacao"
   ]
  },
  {
   "cell_type": "code",
   "execution_count": null,
   "id": "d09c62d1",
   "metadata": {},
   "outputs": [],
   "source": [
    "pccc_total"
   ]
  },
  {
   "cell_type": "code",
   "execution_count": null,
   "id": "b352a3be",
   "metadata": {},
   "outputs": [],
   "source": [
    "abc_labels = ['A', 'B', 'C']\n",
    "xyz_labels = ['X', 'Y', 'Z']\n",
    "\n",
    "tabela = pd.crosstab(df_classificacao['Classe ABC'], df_classificacao['Classe XYZ'])\n",
    "tabela = tabela.reindex(index=abc_labels, columns=xyz_labels, fill_value=0)\n",
    "data = tabela.values\n",
    "\n",
    "fig, ax = plt.subplots(figsize=(8, 6))\n",
    "\n",
    "for i in range(len(abc_labels)):\n",
    "    for j in range(len(xyz_labels)):\n",
    "        valor = data[i, j]\n",
    "        ax.text(j, i, str(valor), va='center', ha='center', fontsize=14, fontweight='bold', color='black')\n",
    "        ax.add_patch(plt.Rectangle((j - 0.5, i - 0.5), 1, 1, fill=False, edgecolor='black', lw=1))\n",
    "\n",
    "ax.set_xticks(np.arange(len(xyz_labels)))\n",
    "ax.set_xticklabels(xyz_labels)\n",
    "ax.set_yticks(np.arange(len(abc_labels)))\n",
    "ax.set_yticklabels(abc_labels)\n",
    "ax.set_xlabel('Classe XYZ')\n",
    "ax.set_ylabel('Classe ABC')\n",
    "ax.set_title('Quadrante ABC/XYZ - Distribuição de Materiais')\n",
    "\n",
    "ax.set_xlim(-0.5, len(xyz_labels) - 0.5)\n",
    "ax.set_ylim(len(abc_labels) - 0.5, -0.5)\n",
    "ax.set_aspect('equal')\n",
    "plt.tight_layout()\n",
    "plt.show()"
   ]
  },
  {
   "cell_type": "code",
   "execution_count": null,
   "id": "00e040f6",
   "metadata": {},
   "outputs": [],
   "source": [
    "pccc_az = df_classificacao[df_classificacao['Classe ABC/XYZ'] == 'AZ'].reset_index()\n",
    "lista_materiais_az = pccc_az['Material'].unique().tolist()\n"
   ]
  },
  {
   "cell_type": "code",
   "execution_count": null,
   "id": "ceeb542a",
   "metadata": {},
   "outputs": [],
   "source": [
    "lista_materiais_az"
   ]
  },
  {
   "cell_type": "code",
   "execution_count": null,
   "id": "a87bd657",
   "metadata": {},
   "outputs": [],
   "source": [
    "pccc_total_az = pccc_total[pccc_total['Material'].isin(lista_materiais_az)]"
   ]
  },
  {
   "cell_type": "code",
   "execution_count": null,
   "id": "d647e7ee",
   "metadata": {},
   "outputs": [],
   "source": [
    "pccc_total_az"
   ]
  },
  {
   "cell_type": "code",
   "execution_count": null,
   "id": "94458521",
   "metadata": {},
   "outputs": [],
   "source": [
    "pccc_total_az_filtrado = pccc_total_az[pccc_total_az['AnoMes'] < '2024-01']"
   ]
  },
  {
   "cell_type": "code",
   "execution_count": null,
   "id": "e6883b89",
   "metadata": {},
   "outputs": [],
   "source": [
    "pccc_total_az_filtrado"
   ]
  },
  {
   "cell_type": "code",
   "execution_count": null,
   "id": "b512e3dd",
   "metadata": {},
   "outputs": [],
   "source": [
    "#prever_demanda_lstm_por_material_az(df=pccc_total_az, materiais_az=lista_materiais_az)"
   ]
  },
  {
   "cell_type": "code",
   "execution_count": null,
   "id": "856cb397",
   "metadata": {},
   "outputs": [],
   "source": [
    "from tensorflow.keras.models import Sequential\n",
    "from tensorflow.keras.layers import LSTM, Dense\n",
    "from sklearn.preprocessing import MinMaxScaler\n",
    "import pandas as pd\n",
    "import numpy as np\n",
    "\n",
    "def prever_demanda_lstm_por_material_az_sem_plot(df, materiais_az, n_steps=12, n_meses_prever=6, n_epochs=300):\n",
    "    \"\"\"\n",
    "    Treina um modelo LSTM individual por material da classe AZ e retorna as previsões em um DataFrame.\n",
    "\n",
    "    Parâmetros:\n",
    "    - df: DataFrame com ['Material', 'Data de lançamento', 'Qtd. UM registro']\n",
    "    - materiais_az: lista de códigos de material\n",
    "    - n_steps: meses usados como janela para treino\n",
    "    - n_meses_prever: meses a prever\n",
    "    - n_epochs: número de épocas do modelo\n",
    "\n",
    "    Retorna:\n",
    "    - DataFrame com colunas: ['Material', 'Mês Previsto', 'Qtd Prevista']\n",
    "    \"\"\"\n",
    "    resultados = []\n",
    "\n",
    "    df = df.copy()\n",
    "    df['Data de lançamento'] = pd.to_datetime(df['Data de lançamento'])\n",
    "    df['AnoMes'] = df['Data de lançamento'].dt.to_period('M')\n",
    "\n",
    "    def preparar_dados_lstm(serie, n_steps):\n",
    "        X, y = [], []\n",
    "        for i in range(n_steps, len(serie)):\n",
    "            X.append(serie[i - n_steps:i])\n",
    "            y.append(serie[i])\n",
    "        return np.array(X), np.array(y)\n",
    "\n",
    "    for mat in materiais_az:\n",
    "        dados_mat = df[df['Material'] == mat]\n",
    "        serie_mensal = dados_mat.groupby('AnoMes')['Qtd.  UM registro'].sum().sort_index()\n",
    "\n",
    "        if len(serie_mensal) < n_steps + 1:\n",
    "            print(f\"Pulando {mat} - poucos dados ({len(serie_mensal)} meses)\")\n",
    "            continue\n",
    "\n",
    "        scaler = MinMaxScaler()\n",
    "        serie_normalizada = scaler.fit_transform(serie_mensal.values.reshape(-1, 1))\n",
    "        X, y = preparar_dados_lstm(serie_normalizada, n_steps)\n",
    "        X = X.reshape((X.shape[0], X.shape[1], 1))\n",
    "\n",
    "        model = Sequential()\n",
    "        model.add(LSTM(50, activation='tanh', return_sequences=True, input_shape=(n_steps, 1)))\n",
    "        model.add(LSTM(50, activation='tanh'))  # segunda camada\n",
    "        model.add(Dense(1))\n",
    "        model.compile(optimizer='adam', loss='mse')\n",
    "        model.fit(X, y, epochs=n_epochs, verbose=0)\n",
    "\n",
    "        previsoes = []\n",
    "        entrada = serie_normalizada[-n_steps:]\n",
    "\n",
    "        for _ in range(n_meses_prever):\n",
    "            entrada_reshaped = entrada.reshape((1, n_steps, 1))\n",
    "            pred = model.predict(entrada_reshaped, verbose=0)[0][0]\n",
    "            previsoes.append(pred)\n",
    "            entrada = np.append(entrada[1:], [[pred]], axis=0)\n",
    "\n",
    "        previsoes_reais = scaler.inverse_transform(np.array(previsoes).reshape(-1, 1)).flatten()\n",
    "        meses_futuros = pd.date_range(\n",
    "            start=serie_mensal.index[-1].to_timestamp() + pd.offsets.MonthBegin(),\n",
    "            periods=n_meses_prever, freq='MS'\n",
    "        ).strftime('%Y-%m')\n",
    "\n",
    "        for mes, qtd in zip(meses_futuros, previsoes_reais):\n",
    "            resultados.append({\n",
    "                'Material': mat,\n",
    "                'Mês Previsto': mes,\n",
    "                'Qtd Prevista': qtd\n",
    "            })\n",
    "\n",
    "    return pd.DataFrame(resultados)\n"
   ]
  },
  {
   "cell_type": "code",
   "execution_count": null,
   "id": "5d3cd2ba",
   "metadata": {},
   "outputs": [],
   "source": [
    "previsoes_df = prever_demanda_lstm_por_material_az_sem_plot(\n",
    "    df=pccc_total_az_filtrado,\n",
    "    materiais_az=lista_materiais_az,\n",
    "    n_steps=48,\n",
    "    n_meses_prever=6,\n",
    "    n_epochs=400\n",
    ")\n",
    "\n",
    "# Ver resultado\n",
    "print(previsoes_df.head())\n",
    "\n",
    "# (Opcional) salvar em Excel\n",
    "# previsoes_df.to_excel('previsoes_materiais_az.xlsx', index=False)\n",
    "#         model = Sequential()\n",
    "#       model.add(LSTM(50, activation='relu', input_shape=(n_steps, 1)))\n",
    "#        model.add(Dense(1))\n",
    "#        model.compile(optimizer='adam', loss='mse')\n",
    "#        model.fit(X, y, epochs=n_epochs, verbose=0)"
   ]
  },
  {
   "cell_type": "code",
   "execution_count": null,
   "id": "83461463",
   "metadata": {},
   "outputs": [],
   "source": [
    "previsoes_df "
   ]
  },
  {
   "cell_type": "code",
   "execution_count": null,
   "id": "c0e0ed43",
   "metadata": {},
   "outputs": [],
   "source": [
    "# previsoes_df.to_excel('previsoes_materiais_az.xlsx', index=False)\n"
   ]
  },
  {
   "cell_type": "code",
   "execution_count": null,
   "id": "55ccae75",
   "metadata": {},
   "outputs": [],
   "source": [
    "pccc_total_az"
   ]
  },
  {
   "cell_type": "code",
   "execution_count": null,
   "id": "8858d93e",
   "metadata": {},
   "outputs": [],
   "source": [
    "# 1. Garantir que as datas estão no mesmo formato\n",
    "pccc_total['Data de lançamento'] = pd.to_datetime(pccc_total['Data de lançamento'])\n",
    "pccc_total['AnoMes'] = pccc_total['Data de lançamento'].dt.to_period('M').astype(str)\n",
    "\n",
    "# 2. Se ainda não estiver, garantir que Mês Previsto também está como string YYYY-MM\n",
    "previsoes_df['Mês Previsto'] = previsoes_df['Mês Previsto'].astype(str)\n",
    "\n",
    "# 3. Agrupar o total real por Material e AnoMes\n",
    "saidas_reais = (\n",
    "    pccc_total.groupby(['Material', 'AnoMes'])['Qtd.  UM registro']\n",
    "    .sum()\n",
    "    .reset_index()\n",
    "    .rename(columns={'Qtd. UM registro': 'Qtd Real'})\n",
    ")\n",
    "\n",
    "# 4. Juntar a previsão com o real\n",
    "previsoes_com_reais = previsoes_df.merge(\n",
    "    saidas_reais,\n",
    "    left_on=['Material', 'Mês Previsto'],\n",
    "    right_on=['Material', 'AnoMes'],\n",
    "    how='left'\n",
    ").drop(columns=['AnoMes'])\n"
   ]
  },
  {
   "cell_type": "code",
   "execution_count": null,
   "id": "11df1ba6",
   "metadata": {},
   "outputs": [],
   "source": [
    "previsoes_com_reais"
   ]
  },
  {
   "cell_type": "code",
   "execution_count": null,
   "id": "ffa025d4",
   "metadata": {},
   "outputs": [],
   "source": [
    "previsoes_com_reais.to_excel('previsoes_com_reais.xlsx', index=False)\n"
   ]
  },
  {
   "cell_type": "code",
   "execution_count": null,
   "id": "3768ac44",
   "metadata": {},
   "outputs": [],
   "source": [
    "print(previsoes_com_reais.columns)\n"
   ]
  },
  {
   "cell_type": "code",
   "execution_count": null,
   "id": "acb0ef30",
   "metadata": {},
   "outputs": [],
   "source": [
    "# Renomear a coluna para facilitar o uso\n",
    "previsoes_com_reais = previsoes_com_reais.rename(columns={'Qtd.  UM registro': 'Qtd_Real'})\n",
    "\n",
    "# Substituir zeros por NaN para evitar divisão por zero\n",
    "previsoes_com_reais['Qtd_Real'] = previsoes_com_reais['Qtd_Real'].replace(0, np.nan)\n",
    "\n",
    "# Calcular erro absoluto\n",
    "previsoes_com_reais['Erro_Absoluto'] = (previsoes_com_reais['Qtd_Real'] - previsoes_com_reais['Qtd_Prevista']).abs()\n",
    "\n",
    "# Calcular erro percentual\n",
    "previsoes_com_reais['Erro_%'] = (previsoes_com_reais['Erro_Absoluto'] / previsoes_com_reais['Qtd_Real']) * 100\n"
   ]
  },
  {
   "cell_type": "code",
   "execution_count": null,
   "id": "bbadbcc3",
   "metadata": {},
   "outputs": [],
   "source": [
    "previsoes_com_reais"
   ]
  },
  {
   "cell_type": "code",
   "execution_count": null,
   "id": "2886a593",
   "metadata": {},
   "outputs": [],
   "source": [
    "# Agrupar por Material e calcular a média do erro percentual\n",
    "media_erro_por_material = (\n",
    "    previsoes_com_reais\n",
    "    .groupby('Material')['Erro_%']\n",
    "    .mean()\n",
    "    .reset_index()\n",
    "    .rename(columns={'Erro_%': 'Erro Médio (%)'})\n",
    "    .sort_values(by='Erro Médio (%)', ascending=False)\n",
    ")\n"
   ]
  },
  {
   "cell_type": "code",
   "execution_count": null,
   "id": "fb6b5e24",
   "metadata": {},
   "outputs": [],
   "source": [
    "media_erro_por_material"
   ]
  },
  {
   "cell_type": "code",
   "execution_count": null,
   "id": "9584e3a6",
   "metadata": {},
   "outputs": [],
   "source": [
    "#previsoes_com_reais.to_excel('previsoes_com_reais.xlsx', index=False)\n",
    "#media_erro_por_material.to_excel('media_erro_por_material.xlsx', index=False)"
   ]
  },
  {
   "cell_type": "code",
   "execution_count": null,
   "id": "79b6327f",
   "metadata": {},
   "outputs": [],
   "source": [
    "materiais_confiaveis = media_erro_por_material[media_erro_por_material['Erro Médio (%)'] <= 30]"
   ]
  },
  {
   "cell_type": "code",
   "execution_count": null,
   "id": "20ee55d6",
   "metadata": {},
   "outputs": [],
   "source": [
    "materiais_confiaveis"
   ]
  },
  {
   "cell_type": "code",
   "execution_count": null,
   "id": "ff035395",
   "metadata": {},
   "outputs": [],
   "source": [
    "previsoes_df = prever_demanda_lstm_por_material_az_sem_plot(\n",
    "    df=pccc_total_az_filtrado,\n",
    "    materiais_az=lista_materiais_az,\n",
    "    n_steps=72,\n",
    "    n_meses_prever=6,\n",
    "    n_epochs=300\n",
    ")\n",
    "\n",
    "# Ver resultado\n",
    "previsoes_df"
   ]
  },
  {
   "cell_type": "code",
   "execution_count": null,
   "id": "8cfe0205",
   "metadata": {},
   "outputs": [],
   "source": [
    "# 1. Garantir que as datas estão no mesmo formato\n",
    "pccc_total['Data de lançamento'] = pd.to_datetime(pccc_total['Data de lançamento'])\n",
    "pccc_total['AnoMes'] = pccc_total['Data de lançamento'].dt.to_period('M').astype(str)\n",
    "\n",
    "# 2. Se ainda não estiver, garantir que Mês Previsto também está como string YYYY-MM\n",
    "previsoes_df['Mês Previsto'] = previsoes_df['Mês Previsto'].astype(str)\n",
    "\n",
    "# 3. Agrupar o total real por Material e AnoMes\n",
    "saidas_reais = (\n",
    "    pccc_total.groupby(['Material', 'AnoMes'])['Qtd.  UM registro']\n",
    "    .sum()\n",
    "    .reset_index()\n",
    "    .rename(columns={'Qtd. UM registro': 'Qtd Real'})\n",
    ")\n",
    "\n",
    "# 4. Juntar a previsão com o real\n",
    "previsoes_com_reais = previsoes_df.merge(\n",
    "    saidas_reais,\n",
    "    left_on=['Material', 'Mês Previsto'],\n",
    "    right_on=['Material', 'AnoMes'],\n",
    "    how='left'\n",
    ").drop(columns=['AnoMes'])"
   ]
  },
  {
   "cell_type": "code",
   "execution_count": null,
   "id": "cfbe2c97",
   "metadata": {},
   "outputs": [],
   "source": [
    "previsoes_com_reais"
   ]
  },
  {
   "cell_type": "code",
   "execution_count": null,
   "id": "6591a063",
   "metadata": {},
   "outputs": [],
   "source": [
    "# Renomear a coluna para facilitar o uso\n",
    "\n",
    "# Substituir zeros por NaN para evitar divisão por zero\n",
    "previsoes_com_reais['Qtd_Real'] = previsoes_com_reais['Qtd_Real'].replace(0, np.nan)\n",
    "\n",
    "# Calcular erro absoluto\n",
    "previsoes_com_reais['Erro_Absoluto'] = (previsoes_com_reais['Qtd_Real'] - previsoes_com_reais['Qtd Prevista']).abs()\n",
    "\n",
    "# Calcular erro percentual\n",
    "previsoes_com_reais['Erro_%'] = (previsoes_com_reais['Erro_Absoluto'] / previsoes_com_reais['Qtd_Real']) * 100"
   ]
  },
  {
   "cell_type": "code",
   "execution_count": null,
   "id": "ff8a4d41",
   "metadata": {},
   "outputs": [],
   "source": [
    "previsoes_com_reais"
   ]
  },
  {
   "cell_type": "code",
   "execution_count": null,
   "id": "fc80ad83",
   "metadata": {},
   "outputs": [],
   "source": [
    "# Agrupar por Material e calcular a média do erro percentual\n",
    "media_erro_por_material = (\n",
    "    previsoes_com_reais\n",
    "    .groupby('Material')['Erro_%']\n",
    "    .mean()\n",
    "    .reset_index()\n",
    "    .rename(columns={'Erro_%': 'Erro Médio (%)'})\n",
    "    .sort_values(by='Erro Médio (%)', ascending=False)\n",
    ")\n"
   ]
  },
  {
   "cell_type": "code",
   "execution_count": null,
   "id": "3e50784e",
   "metadata": {},
   "outputs": [],
   "source": [
    "media_erro_por_material"
   ]
  },
  {
   "cell_type": "code",
   "execution_count": null,
   "id": "5199a640",
   "metadata": {},
   "outputs": [],
   "source": [
    "with pd.option_context('display.max_rows', None, 'display.max_columns', None):\n",
    "    print(media_erro_por_material\n",
    ")\n"
   ]
  },
  {
   "cell_type": "markdown",
   "id": "aebc5743",
   "metadata": {},
   "source": [
    "## abc/xyz usando 3 anos"
   ]
  },
  {
   "cell_type": "code",
   "execution_count": null,
   "id": "8889d8ac",
   "metadata": {},
   "outputs": [],
   "source": [
    "pccc_total"
   ]
  },
  {
   "cell_type": "code",
   "execution_count": null,
   "id": "90adb3d3",
   "metadata": {},
   "outputs": [],
   "source": [
    "pccc_total_filtrado = pccc_total[pccc_total['AnoMes'] > '2019-12']"
   ]
  },
  {
   "cell_type": "code",
   "execution_count": null,
   "id": "1a1a0494",
   "metadata": {},
   "outputs": [],
   "source": [
    "pccc_total_filtrado"
   ]
  },
  {
   "cell_type": "code",
   "execution_count": null,
   "id": "fe8e40b1",
   "metadata": {},
   "outputs": [],
   "source": [
    "pccc_total_filtrado['Data de lançamento'] = pd.to_datetime(pccc_total_filtrado['Data de lançamento'])\n",
    "pccc_total_filtrado['AnoMes'] = pccc_total_filtrado['Data de lançamento'].dt.to_period('M')\n",
    "\n",
    "demanda_mensal = pccc_total_filtrado.groupby(['Material', 'AnoMes'])['Qtd.  UM registro'].sum().unstack(fill_value=0)"
   ]
  },
  {
   "cell_type": "code",
   "execution_count": null,
   "id": "36916856",
   "metadata": {},
   "outputs": [],
   "source": [
    "total_por_material = demanda_mensal.sum(axis=1)\n",
    "percentual = total_por_material / total_por_material.sum()\n",
    "\n",
    "df_abc = percentual.sort_values(ascending=False).cumsum()\n",
    "\n",
    "def classificar_abc(x):\n",
    "    if x <= 0.8:\n",
    "        return 'A'\n",
    "    elif x <= 0.95:\n",
    "        return 'B'\n",
    "    else:\n",
    "        return 'C'\n",
    "\n",
    "classe_abc = df_abc.apply(classificar_abc)\n"
   ]
  },
  {
   "cell_type": "code",
   "execution_count": null,
   "id": "49d8c930",
   "metadata": {},
   "outputs": [],
   "source": [
    "media = demanda_mensal.mean(axis=1)\n",
    "desvio = demanda_mensal.std(axis=1)\n",
    "cv = (desvio / media).fillna(0)\n",
    "\n",
    "def classificar_xyz(x):\n",
    "    if x <= 0.5:\n",
    "        return 'X'\n",
    "    elif x <= 1:\n",
    "        return 'Y'\n",
    "    else:\n",
    "        return 'Z'\n",
    "\n",
    "classe_xyz = cv.apply(classificar_xyz)"
   ]
  },
  {
   "cell_type": "code",
   "execution_count": null,
   "id": "7647300c",
   "metadata": {},
   "outputs": [],
   "source": [
    "df_classificacao = pd.DataFrame({\n",
    "    'Total Movimentado': total_por_material,\n",
    "    'Classe ABC': classe_abc,\n",
    "    'Coef. Variação': cv,\n",
    "    'Classe XYZ': classe_xyz\n",
    "})\n",
    "\n",
    "df_classificacao['Classe ABC/XYZ'] = df_classificacao['Classe ABC'] + df_classificacao['Classe XYZ']\n"
   ]
  },
  {
   "cell_type": "code",
   "execution_count": null,
   "id": "d19459f5",
   "metadata": {},
   "outputs": [],
   "source": [
    "abc_labels = ['A', 'B', 'C']\n",
    "xyz_labels = ['X', 'Y', 'Z']\n",
    "\n",
    "tabela = pd.crosstab(df_classificacao['Classe ABC'], df_classificacao['Classe XYZ'])\n",
    "tabela = tabela.reindex(index=abc_labels, columns=xyz_labels, fill_value=0)\n",
    "data = tabela.values\n",
    "\n",
    "fig, ax = plt.subplots(figsize=(8, 6))\n",
    "\n",
    "for i in range(len(abc_labels)):\n",
    "    for j in range(len(xyz_labels)):\n",
    "        valor = data[i, j]\n",
    "        ax.text(j, i, str(valor), va='center', ha='center', fontsize=14, fontweight='bold', color='black')\n",
    "        ax.add_patch(plt.Rectangle((j - 0.5, i - 0.5), 1, 1, fill=False, edgecolor='black', lw=1))\n",
    "\n",
    "ax.set_xticks(np.arange(len(xyz_labels)))\n",
    "ax.set_xticklabels(xyz_labels)\n",
    "ax.set_yticks(np.arange(len(abc_labels)))\n",
    "ax.set_yticklabels(abc_labels)\n",
    "ax.set_xlabel('Classe XYZ')\n",
    "ax.set_ylabel('Classe ABC')\n",
    "ax.set_title('Quadrante ABC/XYZ - Distribuição de Materiais')\n",
    "\n",
    "ax.set_xlim(-0.5, len(xyz_labels) - 0.5)\n",
    "ax.set_ylim(len(abc_labels) - 0.5, -0.5)\n",
    "ax.set_aspect('equal')\n",
    "plt.tight_layout()\n",
    "plt.show()"
   ]
  },
  {
   "cell_type": "code",
   "execution_count": null,
   "id": "238eb72f",
   "metadata": {},
   "outputs": [],
   "source": [
    "pccc_az = df_classificacao[df_classificacao['Classe ABC/XYZ'] == 'AZ'].reset_index()\n",
    "lista_materiais = pccc_az['Material'].unique().tolist()"
   ]
  },
  {
   "cell_type": "code",
   "execution_count": null,
   "id": "6bc95329",
   "metadata": {},
   "outputs": [],
   "source": [
    "lista_materiais"
   ]
  },
  {
   "cell_type": "code",
   "execution_count": null,
   "id": "5f2c76d4",
   "metadata": {},
   "outputs": [],
   "source": [
    "pccc_total_filtrado_materiais = pccc_total[pccc_total['Material'].isin(lista_materiais)]"
   ]
  },
  {
   "cell_type": "code",
   "execution_count": null,
   "id": "6c9e5d59",
   "metadata": {},
   "outputs": [],
   "source": [
    "pccc_total_filtrado_materiais"
   ]
  },
  {
   "cell_type": "code",
   "execution_count": null,
   "id": "9e322925",
   "metadata": {},
   "outputs": [],
   "source": [
    "pccc_total_filtrado_materiais_1 = pccc_total_filtrado_materiais[pccc_total_filtrado_materiais['AnoMes'] < '2023-12']\n"
   ]
  },
  {
   "cell_type": "code",
   "execution_count": null,
   "id": "b6cb8398",
   "metadata": {},
   "outputs": [],
   "source": [
    "previsoes_df = prever_demanda_lstm_por_material_az_sem_plot(\n",
    "    df=pccc_total_filtrado_materiais_1,\n",
    "    materiais_az=lista_materiais,\n",
    "    n_steps=33,\n",
    "    n_meses_prever=12,\n",
    "    n_epochs=300\n",
    ")\n",
    "\n",
    "previsoes_df"
   ]
  },
  {
   "cell_type": "code",
   "execution_count": null,
   "id": "717949e5",
   "metadata": {},
   "outputs": [],
   "source": []
  },
  {
   "cell_type": "code",
   "execution_count": null,
   "id": "4e9b4efe",
   "metadata": {},
   "outputs": [],
   "source": [
    "previsoes_df.columns"
   ]
  },
  {
   "cell_type": "code",
   "execution_count": null,
   "id": "5dd5891e",
   "metadata": {},
   "outputs": [],
   "source": [
    "pccc_total_filtrado_materiais.columns"
   ]
  },
  {
   "cell_type": "code",
   "execution_count": null,
   "id": "84aed79f",
   "metadata": {},
   "outputs": [],
   "source": [
    "previsoes_df\n",
    "valores_unicos = previsoes_df['Material'].unique()\n"
   ]
  },
  {
   "cell_type": "code",
   "execution_count": null,
   "id": "54cfcb7d",
   "metadata": {},
   "outputs": [],
   "source": [
    "valores_unicos"
   ]
  },
  {
   "cell_type": "code",
   "execution_count": null,
   "id": "58c8f96c",
   "metadata": {},
   "outputs": [],
   "source": [
    "\n",
    "previsoes_2024 = previsoes_df[previsoes_df['Mês Previsto'] >= '2024-01']\n",
    "\n",
    "dados_reais_2024 = pccc_total_filtrado_materiais[pccc_total_filtrado_materiais['AnoMes'] >= '2024-01']\n",
    "\n",
    "reais_por_mes = dados_reais_2024.groupby('AnoMes')['Qtd.  UM registro'].sum().reset_index()\n",
    "reais_por_mes.rename(columns={'AnoMes': 'Mês', 'Qtd.  UM registro': 'Qtd Real'}, inplace=True)\n",
    "\n",
    "previsoes_por_mes = previsoes_2024.groupby('Mês Previsto')['Qtd Prevista'].sum().reset_index()\n",
    "previsoes_por_mes.rename(columns={'Mês Previsto': 'Mês'}, inplace=True)\n",
    "\n",
    "comparacao = pd.merge(previsoes_por_mes, reais_por_mes, on='Mês', how='inner')\n",
    "\n",
    "comparacao['Erro Absoluto'] = (comparacao['Qtd Prevista'] - comparacao['Qtd Real']).abs()\n",
    "comparacao['Erro (%)'] = (comparacao['Erro Absoluto'] / comparacao['Qtd Real']) * 100\n",
    "\n"
   ]
  },
  {
   "cell_type": "code",
   "execution_count": null,
   "id": "70f6fc7b",
   "metadata": {},
   "outputs": [],
   "source": [
    "comparacao"
   ]
  },
  {
   "cell_type": "code",
   "execution_count": null,
   "id": "8ccfd827",
   "metadata": {},
   "outputs": [],
   "source": [
    "previsoes_A33K133 = previsoes_df[(previsoes_df['Material'] == 'A33K133') & (previsoes_df['Mês Previsto'] >= '2024-01')]\n",
    "\n",
    "dados_reais_A33K133 = pccc_total_filtrado_materiais[\n",
    "    (pccc_total_filtrado_materiais['Material'] == 'A33K133') &\n",
    "    (pccc_total_filtrado_materiais['AnoMes'] >= '2024-01')\n",
    "]\n",
    "\n",
    "reais_A33K133_por_mes = dados_reais_A33K133.groupby('AnoMes')['Qtd.  UM registro'].sum().reset_index()\n",
    "reais_A33K133_por_mes.rename(columns={'AnoMes': 'Mês', 'Qtd.  UM registro': 'Qtd Real'}, inplace=True)\n",
    "\n",
    "previsoes_A33K133_por_mes = previsoes_A33K133.groupby('Mês Previsto')['Qtd Prevista'].sum().reset_index()\n",
    "previsoes_A33K133_por_mes.rename(columns={'Mês Previsto': 'Mês'}, inplace=True)\n",
    "\n",
    "comparacao_A33K133 = pd.merge(previsoes_A33K133_por_mes, reais_A33K133_por_mes, on='Mês', how='inner')\n",
    "\n",
    "comparacao_A33K133['Erro Absoluto'] = (comparacao_A33K133['Qtd Prevista'] - comparacao_A33K133['Qtd Real']).abs()\n",
    "comparacao_A33K133['Erro (%)'] = (comparacao_A33K133['Erro Absoluto'] / comparacao_A33K133['Qtd Real']) * 100\n",
    "\n",
    "media_erro_A33K133 = comparacao_A33K133['Erro (%)'].mean()\n",
    "\n",
    "\n"
   ]
  },
  {
   "cell_type": "code",
   "execution_count": null,
   "id": "1f13d13a",
   "metadata": {},
   "outputs": [],
   "source": [
    "comparacao_A33K133"
   ]
  },
  {
   "cell_type": "code",
   "execution_count": null,
   "id": "bda70343",
   "metadata": {},
   "outputs": [],
   "source": [
    "previsoes_AAJW131 = previsoes_df[(previsoes_df['Material'] == 'AAJW131') & (previsoes_df['Mês Previsto'] >= '2024-01')]\n",
    "\n",
    "dados_reais_AAJW131 = pccc_total_filtrado_materiais[\n",
    "    (pccc_total_filtrado_materiais['Material'] == 'AAJW131') &\n",
    "    (pccc_total_filtrado_materiais['AnoMes'] >= '2024-01')\n",
    "]\n",
    "\n",
    "reais_AAJW131_por_mes = dados_reais_AAJW131.groupby('AnoMes')['Qtd.  UM registro'].sum().reset_index()\n",
    "reais_AAJW131_por_mes.rename(columns={'AnoMes': 'Mês', 'Qtd.  UM registro': 'Qtd Real'}, inplace=True)\n",
    "\n",
    "previsoes_AAJW131_por_mes = previsoes_AAJW131.groupby('Mês Previsto')['Qtd Prevista'].sum().reset_index()\n",
    "previsoes_AAJW131_por_mes.rename(columns={'Mês Previsto': 'Mês'}, inplace=True)\n",
    "\n",
    "comparacao_AAJW131 = pd.merge(previsoes_AAJW131_por_mes, reais_AAJW131_por_mes, on='Mês', how='inner')\n",
    "\n",
    "comparacao_AAJW131['Erro Absoluto'] = (comparacao_AAJW131['Qtd Prevista'] - comparacao_AAJW131['Qtd Real']).abs()\n",
    "comparacao_AAJW131['Erro (%)'] = (comparacao_AAJW131['Erro Absoluto'] / comparacao_AAJW131['Qtd Real']) * 100\n",
    "\n",
    "media_erro_AAJW131 = comparacao_AAJW131['Erro (%)'].mean()\n"
   ]
  },
  {
   "cell_type": "code",
   "execution_count": null,
   "id": "fded7b8a",
   "metadata": {},
   "outputs": [],
   "source": [
    "comparacao_AAJW131\n"
   ]
  },
  {
   "cell_type": "code",
   "execution_count": null,
   "id": "3ab92864",
   "metadata": {},
   "outputs": [],
   "source": [
    "media_erro_AAJW131"
   ]
  },
  {
   "cell_type": "markdown",
   "id": "645eed02",
   "metadata": {},
   "source": [
    "# explicaçao\n"
   ]
  },
  {
   "cell_type": "markdown",
   "id": "1d65cd8b",
   "metadata": {},
   "source": [
    "##  **Modelo Utilizado: LSTM**\n",
    "\n",
    "O modelo aplicado para a previsão de demanda foi a LSTM especializada em aprender padrões de séries temporais, como sazonalidade, tendência e flutuações históricas.\n",
    "\n",
    "A LSTM é especialmente eficaz em séries temporais **com dependências de longo prazo**, pois mantém \"memória\" de padrões anteriores, ajustando sua previsão com base em janelas de tempo passadas (definidas por `n_steps`). Neste caso:\n",
    "\n",
    "- Foram utilizados **`n_steps = 194`** , ou seja, o modelo aprendeu com **194 meses anteriores**\n",
    "- Treinamento foi feito com **`epochs = 400`**, permitindo que o modelo ajustasse bem seus pesos\n",
    "\n",
    "---\n",
    "\n",
    "##  **Resultados e Análise das Previsões**\n",
    "\n",
    "### 🔹 **Previsão Total (Todos os Canais)**\n",
    "| MAPE: **13.85%** |\n",
    "- Boa performance geral, com vários meses abaixo de 10% de erro\n",
    "- Erros mais altos nos extremos (jan, fev, dez) indicam **sazonalidade forte não capturada**\n",
    "- Dezembro tem erro alto (34%), comum em meses com picos de demanda não recorrentes\n",
    "\n",
    "---\n",
    "\n",
    "### 🔹 **VENDA DIRETA**\n",
    "| MAPE: **10.36%** |\n",
    "- Excelente desempenho: a maioria dos meses apresenta erros **abaixo de 10%**\n",
    "- Apenas jan, fev e maio passaram de 20%, indicando variações atípicas ou rupturas no padrão\n",
    "- Modelo claramente **aprendeu bem o comportamento do canal VENDA DIRETA**\n",
    "\n",
    "---\n",
    "\n",
    "### 🔹 **VENDA INDIRETA**\n",
    "| MAPE: **17.64%** |\n",
    "- Desempenho razoável, mas com **alguns meses críticos**:\n",
    "  - Novembro: erro de 41%\n",
    "  - Dezembro: erro de 44%\n",
    "- O modelo teve dificuldade de capturar os picos (possivelmente ligados a promoções ou sazonalidades fortes)\n",
    "- Apesar disso, vários meses (mar, jul, set) tiveram erro **abaixo de 10%**\n",
    "\n",
    "---\n",
    "\n",
    "##  Conclusão\n",
    "\n",
    "- O uso de LSTM se mostrou **eficaz** na modelagem da demanda total e por canal.\n",
    "- **VENDA DIRETA teve a menor margem de erro** e uma curva muito mais estável, indicando previsibilidade maior nesse segmento.\n",
    "- **VENDA INDIRETA exige ajustes no modelo ou inclusão de variáveis externas**, como promoções ou sazonalidade explícita, para capturar os picos.\n",
    "- A previsão agregada (todos os canais) apresentou **bom equilíbrio**, mesmo com outliers como dezembro.\n",
    "\n"
   ]
  },
  {
   "cell_type": "code",
   "execution_count": null,
   "id": "46380585",
   "metadata": {},
   "outputs": [],
   "source": []
  }
 ],
 "metadata": {
  "kernelspec": {
   "display_name": "Python 3",
   "language": "python",
   "name": "python3"
  },
  "language_info": {
   "codemirror_mode": {
    "name": "ipython",
    "version": 3
   },
   "file_extension": ".py",
   "mimetype": "text/x-python",
   "name": "python",
   "nbconvert_exporter": "python",
   "pygments_lexer": "ipython3",
   "version": "3.12.3"
  }
 },
 "nbformat": 4,
 "nbformat_minor": 5
}
