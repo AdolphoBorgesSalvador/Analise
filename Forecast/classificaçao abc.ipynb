{
 "cells": [
  {
   "cell_type": "code",
   "execution_count": null,
   "metadata": {},
   "outputs": [],
   "source": [
    "import pandas as pd"
   ]
  },
  {
   "cell_type": "code",
   "execution_count": null,
   "metadata": {},
   "outputs": [],
   "source": [
    "zmb51 = pd.read_excel(r'C:\\Users\\fsp_adolpho.salvador\\Desktop\\Konica Minolta\\Desktop Cloud - Documentos\\Desktop\\Py\\PowerBI\\Novo\\zmb51_historico.xlsx')\n"
   ]
  },
  {
   "cell_type": "code",
   "execution_count": null,
   "metadata": {},
   "outputs": [],
   "source": [
    "df_zstok_new = pd.read_excel(r\"C:\\Users\\fsp_adolpho.salvador\\Desktop\\Konica Minolta\\Desktop Cloud - Documentos\\Desktop\\Py\\Analise\\Forecast\\Arquivos\\zstok.XLSX\")"
   ]
  },
  {
   "cell_type": "code",
   "execution_count": null,
   "metadata": {},
   "outputs": [],
   "source": [
    "df_zstok_new.columns"
   ]
  },
  {
   "cell_type": "code",
   "execution_count": null,
   "metadata": {},
   "outputs": [],
   "source": [
    "\n",
    "\n",
    "# Converter a coluna 'Qtd.' para numérico e tratar valores nulos como zero\n",
    "zmb51['Qtd.'] = pd.to_numeric(zmb51['Qtd.  UM registro'], errors='coerce').fillna(0)\n",
    "\n",
    "# Filtrar apenas os registros com 'CONCEITO DE PESQUISA_2' igual a 'Indireto SP'\n",
    "df_filtrado = zmb51[(zmb51['CONCEITO DE PESQUISA_2'] == 'Indireto SP') & (zmb51['Tipo de Material'] == 'PCCC')]\n",
    "\n",
    "\n",
    "# Agrupar por SKU ('Material') e somar as quantidades de saída\n",
    "sku_saida = df_filtrado.groupby('Material')['Qtd.  UM registro'].sum().reset_index()\n",
    "\n",
    "# Renomear colunas para clareza\n",
    "sku_saida.columns = ['SKU', 'Total de Saídas']\n",
    "\n",
    "# Exibir o resultado\n",
    "print(sku_saida)\n"
   ]
  },
  {
   "cell_type": "code",
   "execution_count": null,
   "metadata": {},
   "outputs": [],
   "source": [
    "\n",
    "\n",
    "# Converter a coluna 'Qtd.' para numérico e tratar valores nulos como zero\n",
    "zmb51['Qtd.'] = pd.to_numeric(zmb51['Qtd.'], errors='coerce').fillna(0)\n",
    "\n",
    "# Filtrar para 'Indireto SP' e 'Tipo de Material' igual a 'PCCC'\n",
    "df_filtrado = zmb51[(zmb51['CONCEITO DE PESQUISA_2'] == 'Indireto SP') & (zmb51['Tipo de Material'] == 'PCCC')]\n",
    "\n",
    "# Converter a coluna de datas para o formato de data, para organizar por mês e ano\n",
    "df_filtrado['Data de lançamento'] = pd.to_datetime(df_filtrado['Data de lançamento'], errors='coerce')\n",
    "\n",
    "# Agrupar os dados por SKU, mês e ano para calcular o consumo mensal\n",
    "df_filtrado['AnoMes'] = df_filtrado['Data de lançamento'].dt.to_period('M')\n",
    "consumo_mensal = df_filtrado.groupby(['Material', 'AnoMes'])['Qtd.'].sum().reset_index()\n",
    "\n",
    "# Calcular média, desvio padrão e coeficiente de variação (CV) para cada SKU\n",
    "previsibilidade = consumo_mensal.groupby('Material')['Qtd.'].agg(['mean', 'std']).reset_index()\n",
    "previsibilidade['CV'] = (previsibilidade['std'] / previsibilidade['mean']) * 100\n",
    "\n",
    "# Classificar previsibilidade com base no CV\n",
    "def classificar_previsibilidade(cv):\n",
    "    if cv <= 20:\n",
    "        return 'X'  # Alta previsibilidade\n",
    "    elif 20 < cv <= 50:\n",
    "        return 'Y'  # Previsibilidade moderada\n",
    "    else:\n",
    "        return 'Z'  # Baixa previsibilidade\n",
    "\n",
    "previsibilidade['Classe Previsibilidade'] = previsibilidade['CV'].apply(classificar_previsibilidade)\n",
    "\n",
    "# Combinar resultados com total de saídas por SKU\n",
    "total_saida = df_filtrado.groupby('Material')['Qtd.'].sum().reset_index()\n",
    "total_saida.columns = ['SKU', 'Total de Saídas']\n",
    "\n",
    "# Unir total de saídas e previsibilidade em um único DataFrame\n",
    "resultado = pd.merge(total_saida, previsibilidade[['Material', 'CV', 'Classe Previsibilidade']], left_on='SKU', right_on='Material').drop(columns='Material')\n",
    "\n",
    "# Exibir o resultado\n",
    "resultado\n"
   ]
  },
  {
   "cell_type": "code",
   "execution_count": null,
   "metadata": {},
   "outputs": [],
   "source": [
    "resultado.to_excel('resultado_XYZ.xlsx')"
   ]
  },
  {
   "cell_type": "code",
   "execution_count": null,
   "metadata": {},
   "outputs": [],
   "source": [
    "# As per the previous analysis, let's confirm the columns to perform the ABC analysis using \"Valor Unitario\" and \"Estoque Total\" columns\n",
    "\n",
    "# Convert \"Valor Unitario\" to numeric and handle any non-numeric values as zero\n",
    "df_zstok_new['Valor Unitario'] = pd.to_numeric(df_zstok_new['Valor Unitario'], errors='coerce').fillna(0)\n",
    "\n",
    "# Convert \"Estoque Total\" to numeric and handle any non-numeric values as zero\n",
    "df_zstok_new['Estoque Total'] = pd.to_numeric(df_zstok_new['Estoque Total'], errors='coerce').fillna(0)\n",
    "\n",
    "# Calculate the annual consumption value for each SKU\n",
    "df_zstok_new['Valor de Consumo Anual'] = df_zstok_new['Valor Unitario'] * df_zstok_new['Estoque Total']\n",
    "\n",
    "# Filter out items with zero \"Valor de Consumo Anual\" as they wouldn't be relevant for ABC analysis\n",
    "df_zstok_new = df_zstok_new[df_zstok_new['Valor de Consumo Anual'] > 0]\n",
    "\n",
    "# Sort by \"Valor de Consumo Anual\" in descending order\n",
    "df_zstok_new = df_zstok_new.sort_values(by='Valor de Consumo Anual', ascending=False)\n",
    "\n",
    "# Calculate the total consumption value for ABC percentage calculations\n",
    "total_consumo_anual = df_zstok_new['Valor de Consumo Anual'].sum()\n",
    "\n",
    "# Calculate the percentage and cumulative percentage of each SKU\n",
    "df_zstok_new['Participação Percentual'] = (df_zstok_new['Valor de Consumo Anual'] / total_consumo_anual) * 100\n",
    "df_zstok_new['Participação Acumulada'] = df_zstok_new['Participação Percentual'].cumsum()\n",
    "\n",
    "# Classify into A, B, or C based on cumulative percentage\n",
    "def classificar_abc(participacao_acumulada):\n",
    "    if participacao_acumulada <= 80:\n",
    "        return 'A'\n",
    "    elif participacao_acumulada <= 95:\n",
    "        return 'B'\n",
    "    else:\n",
    "        return 'C'\n",
    "\n",
    "df_zstok_new['Classe ABC'] = df_zstok_new['Participação Acumulada'].apply(classificar_abc)\n",
    "\n",
    "# Select relevant columns for the final ABC classification result\n",
    "df_abc_result = df_zstok_new[['Material', 'Valor Unitario', 'Estoque Total', 'Valor de Consumo Anual', \n",
    "                              'Participação Percentual', 'Participação Acumulada', 'Classe ABC']]\n",
    "\n",
    "# Saving the ABC analysis result to an Excel file for export\n",
    "\n",
    "df_abc_result.to_excel(r'C:\\Users\\fsp_adolpho.salvador\\Desktop\\Konica Minolta\\Desktop Cloud - Documentos\\Desktop\\Py\\Analise\\Forecast\\Arquivos\\resultado_abc_analysis_new.xlsx')"
   ]
  },
  {
   "cell_type": "code",
   "execution_count": null,
   "metadata": {},
   "outputs": [],
   "source": []
  }
 ],
 "metadata": {
  "kernelspec": {
   "display_name": "Python 3",
   "language": "python",
   "name": "python3"
  },
  "language_info": {
   "codemirror_mode": {
    "name": "ipython",
    "version": 3
   },
   "file_extension": ".py",
   "mimetype": "text/x-python",
   "name": "python",
   "nbconvert_exporter": "python",
   "pygments_lexer": "ipython3",
   "version": "3.12.3"
  }
 },
 "nbformat": 4,
 "nbformat_minor": 2
}
