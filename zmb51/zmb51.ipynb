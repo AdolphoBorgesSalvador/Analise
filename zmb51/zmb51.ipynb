{
 "cells": [
  {
   "cell_type": "code",
   "execution_count": null,
   "metadata": {},
   "outputs": [],
   "source": [
    "import pandas as pd"
   ]
  },
  {
   "cell_type": "code",
   "execution_count": null,
   "metadata": {},
   "outputs": [],
   "source": [
    "zmb51_1 = pd.read_excel(r\"C:\\Users\\fsp_adolpho.salvador\\Desktop\\Konica Minolta\\Desktop Cloud - Documentos\\Desktop\\zmb51_usuarios.XLSX\")"
   ]
  },
  {
   "cell_type": "code",
   "execution_count": null,
   "metadata": {},
   "outputs": [],
   "source": [
    "zmb51_1.columns"
   ]
  },
  {
   "cell_type": "code",
   "execution_count": null,
   "metadata": {},
   "outputs": [],
   "source": [
    "zmb51 = zmb51_1[['Material','Doc.material','Tipo de movimento', 'Qtd.  UM registro', 'Nome do usuário', 'Canal', 'Tipo de Material']]\n"
   ]
  },
  {
   "cell_type": "code",
   "execution_count": null,
   "metadata": {},
   "outputs": [],
   "source": [
    "zmb51"
   ]
  },
  {
   "cell_type": "code",
   "execution_count": null,
   "metadata": {},
   "outputs": [],
   "source": [
    "zmb51 = zmb51[zmb51['Qtd.  UM registro'] > 0]"
   ]
  },
  {
   "cell_type": "code",
   "execution_count": null,
   "metadata": {},
   "outputs": [],
   "source": [
    "zmb51"
   ]
  },
  {
   "cell_type": "code",
   "execution_count": null,
   "metadata": {},
   "outputs": [],
   "source": [
    "nome_usuario_frequencia = zmb51['Nome do usuário'].value_counts().reset_index()\n",
    "nome_usuario_frequencia.columns = ['Nome do usuário', 'Quantidade']\n",
    "\n",
    "canal_frequencia = zmb51['Canal'].value_counts().reset_index()\n",
    "canal_frequencia.columns = ['Canal', 'Quantidade']\n",
    "\n",
    "tipo_material_frequencia = zmb51['Tipo de Material'].value_counts().reset_index()\n",
    "tipo_material_frequencia.columns = ['Tipo de Material', 'Quantidade']\n",
    "\n",
    "nome_usuario_por_documento = zmb51.groupby(['Doc.material', 'Nome do usuário']).size().reset_index(name='Quantidade')\n",
    "\n",
    "canal_por_documento = zmb51.groupby(['Doc.material', 'Canal']).size().reset_index(name='Quantidade')\n",
    "\n",
    "tipo_material_por_documento = zmb51.groupby(['Doc.material', 'Tipo de Material']).size().reset_index(name='Quantidade')\n",
    "\n",
    "\n",
    "nome_usuario_frequencia\n"
   ]
  },
  {
   "cell_type": "code",
   "execution_count": null,
   "metadata": {},
   "outputs": [],
   "source": [
    "canal_frequencia"
   ]
  },
  {
   "cell_type": "code",
   "execution_count": null,
   "metadata": {},
   "outputs": [],
   "source": [
    "tipo_material_frequencia"
   ]
  },
  {
   "cell_type": "code",
   "execution_count": null,
   "metadata": {},
   "outputs": [],
   "source": [
    "nome_usuario_por_documento"
   ]
  },
  {
   "cell_type": "code",
   "execution_count": null,
   "metadata": {},
   "outputs": [],
   "source": [
    "tipo_material_por_documento"
   ]
  },
  {
   "cell_type": "code",
   "execution_count": null,
   "metadata": {},
   "outputs": [],
   "source": [
    "canal_por_documento"
   ]
  },
  {
   "cell_type": "code",
   "execution_count": null,
   "metadata": {},
   "outputs": [],
   "source": [
    "zmb51_1 = zmb51_1[zmb51_1['Qtd.  UM registro'] > 0]"
   ]
  },
  {
   "cell_type": "code",
   "execution_count": null,
   "metadata": {},
   "outputs": [],
   "source": [
    "zmb51_vanessa = zmb51[zmb51['Nome do usuário'] == 'VANESSA']\n",
    "agrupado_por_documento = zmb51_vanessa.groupby('Doc.material').size().reset_index(name='Quantidade')\n"
   ]
  },
  {
   "cell_type": "code",
   "execution_count": null,
   "metadata": {},
   "outputs": [],
   "source": [
    "tipo_material_frequencia_vanessa = zmb51_vanessa['Tipo de Material'].value_counts().reset_index()\n",
    "tipo_material_frequencia_vanessa.columns = ['Tipo de Material', 'Quantidade']"
   ]
  },
  {
   "cell_type": "code",
   "execution_count": null,
   "metadata": {},
   "outputs": [],
   "source": [
    "zmb51_vanessa"
   ]
  },
  {
   "cell_type": "code",
   "execution_count": null,
   "metadata": {},
   "outputs": [],
   "source": [
    "zmb51_vanessa_por_doc = zmb51_vanessa['Doc.material'].unique()"
   ]
  },
  {
   "cell_type": "code",
   "execution_count": null,
   "metadata": {},
   "outputs": [],
   "source": [
    "zmb51_vanessa_por_doc"
   ]
  },
  {
   "cell_type": "code",
   "execution_count": null,
   "metadata": {},
   "outputs": [],
   "source": [
    "tipo_material_frequencia_vanessa"
   ]
  },
  {
   "cell_type": "code",
   "execution_count": null,
   "metadata": {},
   "outputs": [],
   "source": [
    "agrupado_por_documento"
   ]
  }
 ],
 "metadata": {
  "kernelspec": {
   "display_name": "Python 3",
   "language": "python",
   "name": "python3"
  },
  "language_info": {
   "codemirror_mode": {
    "name": "ipython",
    "version": 3
   },
   "file_extension": ".py",
   "mimetype": "text/x-python",
   "name": "python",
   "nbconvert_exporter": "python",
   "pygments_lexer": "ipython3",
   "version": "3.12.3"
  }
 },
 "nbformat": 4,
 "nbformat_minor": 2
}
